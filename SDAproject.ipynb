{
 "cells": [
  {
   "cell_type": "markdown",
   "metadata": {
    "id": "YMI1U4UqPDIV"
   },
   "source": [
    "# Install missing libraries"
   ]
  },
  {
   "cell_type": "code",
   "execution_count": null,
   "metadata": {
    "id": "hdDhJTx0-M73"
   },
   "outputs": [],
   "source": [
    "!pip install river\n",
    "!pip install numpy==1.24.3"
   ]
  },
  {
   "cell_type": "markdown",
   "metadata": {
    "id": "HPAJhY-E6f1_"
   },
   "source": [
    "Need to restart the runtime"
   ]
  },
  {
   "cell_type": "markdown",
   "metadata": {
    "id": "sOR1CRUPAyzo"
   },
   "source": [
    "# Connect to Drive"
   ]
  },
  {
   "cell_type": "code",
   "execution_count": null,
   "metadata": {
    "id": "GN_kw2Vp_GGe"
   },
   "outputs": [],
   "source": [
    "# Connect to Drive\n",
    "from google.colab import drive\n",
    "drive.mount('/gdrive')\n",
    "\n",
    "%cd /gdrive/My Drive/SDA project/"
   ]
  },
  {
   "cell_type": "markdown",
   "metadata": {
    "id": "JrMoTpSxAtxB"
   },
   "source": [
    "# Import libraries"
   ]
  },
  {
   "cell_type": "code",
   "execution_count": 137,
   "metadata": {
    "executionInfo": {
     "elapsed": 461,
     "status": "ok",
     "timestamp": 1696865296846,
     "user": {
      "displayName": "Erika Buoninfante",
      "userId": "14616066065245091588"
     },
     "user_tz": -120
    },
    "id": "_XrdpmCG-Go3"
   },
   "outputs": [],
   "source": [
    "import pickle\n",
    "import pandas as pd\n",
    "import numpy as np\n",
    "import matplotlib.pyplot as plt\n",
    "from sklearn.model_selection import train_test_split\n",
    "from sklearn.metrics import accuracy_score, confusion_matrix\n",
    "from imblearn.under_sampling import RandomUnderSampler\n",
    "\n",
    "from river import drift\n",
    "from river.metrics import Accuracy,BalancedAccuracy,CohenKappa,GeometricMean\n",
    "from river.metrics.base import Metrics\n",
    "from river.utils import Rolling\n",
    "from river.evaluate import progressive_val_score\n",
    "from river.tree import HoeffdingAdaptiveTreeClassifier\n",
    "from river.forest import ARFClassifier\n",
    "from river.stream import iter_sklearn_dataset, iter_pandas\n",
    "from imblearn.under_sampling import RandomUnderSampler\n",
    "\n",
    "import tensorflow as tf\n",
    "import keras\n",
    "from tensorflow.keras.models import Sequential\n",
    "from tensorflow.keras.layers import Dense, InputLayer, Dropout, Conv1D, Flatten, Reshape, MaxPooling1D, GlobalAveragePooling1D\n",
    "from tensorflow.keras.optimizers.legacy import Adam\n",
    "from tensorflow.keras.losses import binary_crossentropy\n",
    "tfk = tf.keras\n",
    "tfkl = tf.keras.layers\n",
    "\n",
    "import torch\n",
    "import torch.nn as nn\n",
    "import torchvision.datasets as datasets\n",
    "import torchvision.transforms as transforms\n",
    "import torch.optim as optim\n",
    "import torch.nn.functional as F"
   ]
  },
  {
   "cell_type": "markdown",
   "metadata": {
    "id": "P9m4pXTB-Go5"
   },
   "source": [
    "# Data loading"
   ]
  },
  {
   "cell_type": "code",
   "execution_count": 8,
   "metadata": {
    "executionInfo": {
     "elapsed": 486,
     "status": "ok",
     "timestamp": 1696854616610,
     "user": {
      "displayName": "Erika Buoninfante",
      "userId": "14616066065245091588"
     },
     "user_tz": -120
    },
    "id": "eE97_AFA-Go6"
   },
   "outputs": [],
   "source": [
    "X_paths = [\n",
    "    './fan/id_00/X.npy',\n",
    "    './fan/id_02/X.npy',\n",
    "    './fan/id_04/X.npy',\n",
    "    './fan/id_06/X.npy'\n",
    "]\n",
    "\n",
    "y_paths = [\n",
    "    './fan/id_00/y.npy',\n",
    "    './fan/id_02/y.npy',\n",
    "    './fan/id_04/y.npy',\n",
    "    './fan/id_06/y.npy'\n",
    "]\n",
    "\n",
    "num_experiences = len(X_paths)"
   ]
  },
  {
   "cell_type": "code",
   "execution_count": 9,
   "metadata": {
    "executionInfo": {
     "elapsed": 39585,
     "status": "ok",
     "timestamp": 1696854658577,
     "user": {
      "displayName": "Erika Buoninfante",
      "userId": "14616066065245091588"
     },
     "user_tz": -120
    },
    "id": "TRs7jyLz-Go6"
   },
   "outputs": [],
   "source": [
    "# Load experiences\n",
    "X_data = dict()\n",
    "y_data = dict()\n",
    "for i in range(num_experiences):\n",
    "    X_data[i] = np.load(X_paths[i])\n",
    "    y_data[i] = np.load(y_paths[i])[:,0]  # take only the first column"
   ]
  },
  {
   "cell_type": "markdown",
   "metadata": {
    "id": "d0j3C555-Go7"
   },
   "source": [
    "# Data pre-processing"
   ]
  },
  {
   "cell_type": "markdown",
   "metadata": {
    "id": "bQirz3v9FHRA"
   },
   "source": [
    "### Labels distribution"
   ]
  },
  {
   "cell_type": "code",
   "execution_count": null,
   "metadata": {
    "id": "VE0wdC3k-Go7"
   },
   "outputs": [],
   "source": [
    "# Compute the percentage of labels in each experience\n",
    "def compute_percentages(num_exp, value_to_count, y_data):  # y_data is a dict containing arrays of labels for each experience\n",
    "  percentages = dict()\n",
    "  percentages[0] = np.empty(num_exp)\n",
    "\n",
    "  for i,arr in enumerate(y_data.values()):\n",
    "      count = np.array(np.sum(arr == value_to_count))\n",
    "      percentages[0][i] = count / len(arr) * 100\n",
    "\n",
    "  percentages[1] = 100 - percentages[0]\n",
    "  return percentages\n",
    "\n",
    "\n",
    "# Plot labels distribution\n",
    "def plot_label_distribution(percentage1, percentage2, num_exp, labels):\n",
    "    x_labels = [f\"Exp{i}\" for i in range(1, num_exp+1)]\n",
    "    x = np.arange(len(x_labels))\n",
    "    width = 0.4\n",
    "\n",
    "    fig, ax = plt.subplots(figsize=(6, 3))\n",
    "    ax.set_ylim(0,100)\n",
    "    ax.bar(x-width/2, percentage1, width, label=labels[0])\n",
    "    ax.bar(x+width/2, percentage2, width, label=labels[1])\n",
    "    ax.set_xlabel('Experiences')\n",
    "    ax.set_ylabel('Percentage')\n",
    "    ax.set_title('Labels distribution')\n",
    "    ax.set_xticks(x)\n",
    "    ax.set_xticklabels(x_labels)\n",
    "    ax.legend()\n",
    "\n",
    "    plt.yticks(np.arange(0, 110, 10))\n",
    "    plt.show()"
   ]
  },
  {
   "cell_type": "code",
   "execution_count": null,
   "metadata": {
    "colab": {
     "base_uri": "https://localhost:8080/",
     "height": 404
    },
    "executionInfo": {
     "elapsed": 750,
     "status": "ok",
     "timestamp": 1696779026525,
     "user": {
      "displayName": "Erika Buoninfante",
      "userId": "14616066065245091588"
     },
     "user_tz": -120
    },
    "id": "ZKjjvhJjvx8I",
    "outputId": "5af13c70-9419-4a17-eb29-a57342c573fe"
   },
   "outputs": [
    {
     "name": "stdout",
     "output_type": "stream",
     "text": [
      "\t\t\t Experience1 Experience2 Experience3 Experience4\n",
      "\n",
      "Percentage of Label 1:  [28.70239774 26.10909091 25.19913106 26.23546512]\n",
      "Percentage of Label 2:  [71.29760226 73.89090909 74.80086894 73.76453488]\n"
     ]
    },
    {
     "data": {
      "image/png": "[encoded data removed]",
      "text/plain": [
       "<Figure size 600x300 with 1 Axes>"
      ]
     },
     "metadata": {},
     "output_type": "display_data"
    }
   ],
   "source": [
    "# Percentages\n",
    "percentages = compute_percentages(num_experiences, 1, y_data)\n",
    "percentage1, percentage2 = percentages[0], percentages[1]\n",
    "print(\"\\t\\t\\t Experience1 Experience2 Experience3 Experience4\\n\")\n",
    "print(\"Percentage of Label 1: \", percentage1)\n",
    "print(\"Percentage of Label 2: \", percentage2)\n",
    "\n",
    "# Plot\n",
    "plot_label_distribution(percentage1, percentage2, num_exp=num_experiences, labels=['Label 1', 'Label 2'])"
   ]
  },
  {
   "cell_type": "markdown",
   "metadata": {
    "id": "IvE0CSoL-Go8"
   },
   "source": [
    "### Undersampling\n",
    "We want to reduce the number of samples in the majority class (label 2 in this case), so that the final ratio is 60-40."
   ]
  },
  {
   "cell_type": "code",
   "execution_count": null,
   "metadata": {
    "id": "x1zz4bd7-Go8"
   },
   "outputs": [],
   "source": [
    "# Use RandomUnderSampler from imblearn library\n",
    "X_resampled = dict()\n",
    "y_resampled = dict()\n",
    "\n",
    "desired_majority_ratio = 0.6\n",
    "desired_minority_ratio = 0.4\n",
    "\n",
    "for i in range(num_experiences):\n",
    "    # Number of samples in the minority class - not changed\n",
    "    num_minority_samples = np.sum(y_data[i] == 1)\n",
    "    # Calculate the number of samples to keep for the majority class\n",
    "    num_majority_samples = int(num_minority_samples / desired_minority_ratio * desired_majority_ratio)\n",
    "    # Random undersampling of the majority class\n",
    "    rus = RandomUnderSampler(sampling_strategy={2: num_majority_samples}, random_state=42)\n",
    "    X_resampled[i], y_resampled[i] = rus.fit_resample(X_data[i], y_data[i])\n"
   ]
  },
  {
   "cell_type": "markdown",
   "metadata": {
    "id": "4IOcS-bq-Go8"
   },
   "source": [
    "### New labels distribution"
   ]
  },
  {
   "cell_type": "code",
   "execution_count": null,
   "metadata": {
    "colab": {
     "base_uri": "https://localhost:8080/",
     "height": 404
    },
    "executionInfo": {
     "elapsed": 693,
     "status": "ok",
     "timestamp": 1696779046466,
     "user": {
      "displayName": "Erika Buoninfante",
      "userId": "14616066065245091588"
     },
     "user_tz": -120
    },
    "id": "nZUHRLpP-Go8",
    "outputId": "a786cbc1-a2fd-463a-b9ab-a5b5226daee2"
   },
   "outputs": [
    {
     "name": "stdout",
     "output_type": "stream",
     "text": [
      "\t\t\t Experience1 Experience2 Experience3 Experience4\n",
      "\n",
      "Percentage of Label 1:  [40.00218412 40.00247617 40.         40.00246245]\n",
      "Percentage of Label 2:  [59.99781588 59.99752383 60.         59.99753755]\n"
     ]
    },
    {
     "data": {
      "image/png": "[encoded data removed]",
      "text/plain": [
       "<Figure size 600x300 with 1 Axes>"
      ]
     },
     "metadata": {},
     "output_type": "display_data"
    }
   ],
   "source": [
    "# Percentages\n",
    "percentages = compute_percentages(num_experiences, 1, y_resampled)\n",
    "percentage1, percentage2 = percentages[0], percentages[1]\n",
    "print(\"\\t\\t\\t Experience1 Experience2 Experience3 Experience4\\n\")\n",
    "print(\"Percentage of Label 1: \", percentage1)\n",
    "print(\"Percentage of Label 2: \", percentage2)\n",
    "\n",
    "# Plot\n",
    "plot_label_distribution(percentage1, percentage2, num_exp=num_experiences, labels=['Label 1', 'Label 2'])"
   ]
  },
  {
   "cell_type": "markdown",
   "metadata": {
    "id": "q0FMOeSWfD4T"
   },
   "source": [
    "### Split train-test"
   ]
  },
  {
   "cell_type": "code",
   "execution_count": null,
   "metadata": {
    "id": "-Q5MYcr5-Go9"
   },
   "outputs": [],
   "source": [
    "# Split train set and test set for each experience, starting from the resampled dataset\n",
    "X_train = dict()\n",
    "y_train = dict()\n",
    "X_test = dict()\n",
    "y_test = dict()\n",
    "\n",
    "for i in range(num_experiences):\n",
    "    X_train[i], X_test[i], y_train[i], y_test[i] = train_test_split(X_resampled[i], y_resampled[i], test_size=0.2, random_state=42, stratify=y_resampled[i])\n"
   ]
  },
  {
   "cell_type": "code",
   "execution_count": null,
   "metadata": {
    "id": "m2ALpcK7ir_2"
   },
   "outputs": [],
   "source": [
    "# Clean memory\n",
    "del X_data, y_data, X_resampled, y_resampled\n",
    "del X_paths, y_paths, rus, percentages\n",
    "del desired_minority_ratio, desired_majority_ratio, num_majority_samples, num_minority_samples"
   ]
  },
  {
   "cell_type": "markdown",
   "metadata": {
    "id": "jh-djqA-gO2Z"
   },
   "source": [
    "### Feature extraction"
   ]
  },
  {
   "cell_type": "code",
   "execution_count": null,
   "metadata": {
    "colab": {
     "base_uri": "https://localhost:8080/"
    },
    "executionInfo": {
     "elapsed": 1346,
     "status": "ok",
     "timestamp": 1696779077910,
     "user": {
      "displayName": "Erika Buoninfante",
      "userId": "14616066065245091588"
     },
     "user_tz": -120
    },
    "id": "7xZtSz_Vfvo7",
    "outputId": "91d0a680-7e46-40cb-fa85-fbb9c7c0d143"
   },
   "outputs": [
    {
     "name": "stdout",
     "output_type": "stream",
     "text": [
      "Model: \"sequential_12\"\n",
      "_________________________________________________________________\n",
      " Layer (type)                Output Shape              Param #   \n",
      "=================================================================\n",
      " reshape_12 (Reshape)        (None, 199, 65)           0         \n",
      "                                                                 \n",
      " conv1d_24 (Conv1D)          (None, 199, 8)            1568      \n",
      "                                                                 \n",
      " max_pooling1d_24 (MaxPooli  (None, 100, 8)            0         \n",
      " ng1D)                                                           \n",
      "                                                                 \n",
      " dropout_24 (Dropout)        (None, 100, 8)            0         \n",
      "                                                                 \n",
      " conv1d_25 (Conv1D)          (None, 100, 16)           400       \n",
      "                                                                 \n",
      " max_pooling1d_25 (MaxPooli  (None, 50, 16)            0         \n",
      " ng1D)                                                           \n",
      "                                                                 \n",
      " dropout_25 (Dropout)        (None, 50, 16)            0         \n",
      "                                                                 \n",
      " flatten_8 (Flatten)         (None, 800)               0         \n",
      "                                                                 \n",
      " dense_20 (Dense)            (None, 20)                16020     \n",
      "                                                                 \n",
      " dense_21 (Dense)            (None, 10)                210       \n",
      "                                                                 \n",
      " y_pred (Dense)              (None, 1)                 11        \n",
      "                                                                 \n",
      "=================================================================\n",
      "Total params: 18209 (71.13 KB)\n",
      "Trainable params: 18209 (71.13 KB)\n",
      "Non-trainable params: 0 (0.00 Byte)\n",
      "_________________________________________________________________\n",
      "None\n",
      "\n",
      "Model: \"sequential\"\n",
      "_________________________________________________________________\n",
      " Layer (type)                Output Shape              Param #   \n",
      "=================================================================\n",
      " reshape_12 (Reshape)        (None, 199, 65)           0         \n",
      "                                                                 \n",
      " conv1d_24 (Conv1D)          (None, 199, 8)            1568      \n",
      "                                                                 \n",
      " max_pooling1d_24 (MaxPooli  (None, 100, 8)            0         \n",
      " ng1D)                                                           \n",
      "                                                                 \n",
      " dropout_24 (Dropout)        (None, 100, 8)            0         \n",
      "                                                                 \n",
      " conv1d_25 (Conv1D)          (None, 100, 16)           400       \n",
      "                                                                 \n",
      " max_pooling1d_25 (MaxPooli  (None, 50, 16)            0         \n",
      " ng1D)                                                           \n",
      "                                                                 \n",
      " dropout_25 (Dropout)        (None, 50, 16)            0         \n",
      "                                                                 \n",
      " flatten_8 (Flatten)         (None, 800)               0         \n",
      "                                                                 \n",
      "=================================================================\n",
      "Total params: 1968 (7.69 KB)\n",
      "Trainable params: 1968 (7.69 KB)\n",
      "Non-trainable params: 0 (0.00 Byte)\n",
      "_________________________________________________________________\n",
      "None\n"
     ]
    }
   ],
   "source": [
    "# Load model\n",
    "transfer_model = tfk.models.load_model('model.h5')\n",
    "\n",
    "CUT = 'flatten'  # choose at which layer to cut the neural network\n",
    "\n",
    "print(transfer_model.summary())\n",
    "print()\n",
    "if CUT == 'flatten':  # output shape 800\n",
    "    new_model = tf.keras.models.Sequential(transfer_model.layers[:-3])\n",
    "else:  # CUT == 'dense'  output shape 20\n",
    "    new_model = tf.keras.models.Sequential(transfer_model.layers[:-2])\n",
    "print(new_model.summary())\n"
   ]
  },
  {
   "cell_type": "code",
   "execution_count": null,
   "metadata": {
    "colab": {
     "base_uri": "https://localhost:8080/"
    },
    "executionInfo": {
     "elapsed": 9739,
     "status": "ok",
     "timestamp": 1696779095078,
     "user": {
      "displayName": "Erika Buoninfante",
      "userId": "14616066065245091588"
     },
     "user_tz": -120
    },
    "id": "n3lfkcV7haS7",
    "outputId": "9a089268-ba46-4ae3-f6af-0c0c2963e7a5"
   },
   "outputs": [
    {
     "name": "stdout",
     "output_type": "stream",
     "text": [
      "229/229 [==============================] - 2s 6ms/step\n",
      "58/58 [==============================] - 0s 4ms/step\n",
      "202/202 [==============================] - 1s 4ms/step\n",
      "51/51 [==============================] - 0s 4ms/step\n",
      "196/196 [==============================] - 1s 4ms/step\n",
      "49/49 [==============================] - 0s 4ms/step\n",
      "204/204 [==============================] - 1s 4ms/step\n",
      "51/51 [==============================] - 0s 4ms/step\n"
     ]
    }
   ],
   "source": [
    "for i in range(num_experiences):\n",
    "  X_train[i] = new_model.predict(X_train[i])\n",
    "  X_test[i] = new_model.predict(X_test[i])"
   ]
  },
  {
   "cell_type": "markdown",
   "metadata": {
    "id": "Cdh9Pas5EwB-"
   },
   "source": [
    "### Final dataset"
   ]
  },
  {
   "cell_type": "code",
   "execution_count": null,
   "metadata": {
    "id": "UZojHL580ajr"
   },
   "outputs": [],
   "source": [
    "# Target must be 0/1\n",
    "for i in range(num_experiences):\n",
    "  y_train[i] -= 1\n",
    "  y_test[i] -= 1"
   ]
  },
  {
   "cell_type": "code",
   "execution_count": null,
   "metadata": {
    "id": "eZLxaRtXEeeG"
   },
   "outputs": [],
   "source": [
    "# Save final dataset\n",
    "\"\"\"for i in range(num_experiences):\n",
    "  np.save('final_dataset/X_train' + str(i) + '.npy', X_train[i])\n",
    "  np.save('final_dataset/y_train' + str(i) + '.npy', y_train[i])\n",
    "  np.save('final_dataset/X_test' + str(i) + '.npy', X_test[i])\n",
    "  np.save('final_dataset/y_test' + str(i) + '.npy', y_test[i])\n",
    "\"\"\""
   ]
  },
  {
   "cell_type": "markdown",
   "metadata": {
    "id": "NZCrt_0I-Go9"
   },
   "source": [
    "# SML models"
   ]
  },
  {
   "cell_type": "code",
   "execution_count": 93,
   "metadata": {
    "colab": {
     "base_uri": "https://localhost:8080/"
    },
    "executionInfo": {
     "elapsed": 236,
     "status": "ok",
     "timestamp": 1696839093735,
     "user": {
      "displayName": "Erika Buoninfante",
      "userId": "14616066065245091588"
     },
     "user_tz": -120
    },
    "id": "OQ1aMt1SE1lg",
    "outputId": "84399fd8-9d06-410b-f822-896d0175a19b"
   },
   "outputs": [
    {
     "name": "stdout",
     "output_type": "stream",
     "text": [
      "X_train[0]:\t(7325, 800)\n",
      "y_train[0]:\t(7325,)\n",
      "X_test[0]:\t(1832, 800)\n",
      "y_test[0]:\t(1832,)\n",
      "X_train[1]:\t(6461, 800)\n",
      "y_train[1]:\t(6461,)\n",
      "X_test[1]:\t(1616, 800)\n",
      "y_test[1]:\t(1616,)\n",
      "X_train[2]:\t(6264, 800)\n",
      "y_train[2]:\t(6264,)\n",
      "X_test[2]:\t(1566, 800)\n",
      "y_test[2]:\t(1566,)\n",
      "X_train[3]:\t(6497, 800)\n",
      "y_train[3]:\t(6497,)\n",
      "X_test[3]:\t(1625, 800)\n",
      "y_test[3]:\t(1625,)\n"
     ]
    }
   ],
   "source": [
    "num_experiences = 4\n",
    "\n",
    "# Load final dataset\n",
    "X_train = dict()\n",
    "y_train = dict()\n",
    "X_test = dict()\n",
    "y_test = dict()\n",
    "for i in range(num_experiences):\n",
    "  X_train[i] = np.load('final_dataset/X_train' + str(i) + '.npy', allow_pickle=True)\n",
    "  print('X_train['+str(i)+']:\\t' + str(X_train[i].shape))\n",
    "  y_train[i] = np.load('final_dataset/y_train' + str(i) + '.npy', allow_pickle=True)\n",
    "  print('y_train['+str(i)+']:\\t' + str(y_train[i].shape))\n",
    "  X_test[i] = np.load('final_dataset/X_test' + str(i) + '.npy', allow_pickle=True)\n",
    "  print('X_test['+str(i)+']:\\t' + str(X_test[i].shape))\n",
    "  y_test[i] = np.load('final_dataset/y_test' + str(i) + '.npy', allow_pickle=True)\n",
    "  print('y_test['+str(i)+']:\\t' + str(y_test[i].shape))"
   ]
  },
  {
   "cell_type": "markdown",
   "metadata": {
    "id": "6FRZWSOmbuLs"
   },
   "source": [
    "## Utility functions"
   ]
  },
  {
   "cell_type": "code",
   "execution_count": 95,
   "metadata": {
    "executionInfo": {
     "elapsed": 884,
     "status": "ok",
     "timestamp": 1696862938073,
     "user": {
      "displayName": "Erika Buoninfante",
      "userId": "14616066065245091588"
     },
     "user_tz": -120
    },
    "id": "HGvi1BmGh5A2"
   },
   "outputs": [],
   "source": [
    "# Train function for SML models\n",
    "def SML_train(model, X_train, y_train): # X_train and y_train are Numpy arrays\n",
    "  for j, (xi, yi) in enumerate(zip(X_train, y_train)):\n",
    "    # Create a dictionary of features with keys as indices and values as array elements\n",
    "    x = {i: xi[i] for i in range(xi.shape[0])}\n",
    "    model.learn_one(x=x, y=yi)              # Train the model\n",
    "    if j%1000 == 0: print(j)                # Check progress\n",
    "\n",
    "\n",
    "# Test function for SML models\n",
    "def SML_test(model, X_test):\n",
    "  y_pred = []\n",
    "  for xi in X_test:\n",
    "    x = {i: xi[i] for i in range(xi.shape[0])}\n",
    "    y_pred.append(model.predict_one(x=x))   # Predict class-label\n",
    "  return y_pred\n",
    "\n",
    "\n",
    "# Plot performances\n",
    "def plot_performances(title, accuracy):\n",
    "    x_labels = [f\"Train e{i}\" for i in range(1, len(accuracy)+1)]\n",
    "    x = np.arange(len(x_labels))\n",
    "    width = 0.2\n",
    "    # Create a matrix from the accuracy dict:\n",
    "    # i-th row includes the values obtained after testing the model trained on the i-th experience\n",
    "    acc_matrix = np.array([accuracy[key] for key in sorted(accuracy.keys())])\n",
    "\n",
    "    fig, ax = plt.subplots(figsize=(6, 3))\n",
    "    ax.set_ylim(0,1)\n",
    "    ax.bar(x - (3/2)*width, acc_matrix[:, 0], width, label='Test e1')\n",
    "    ax.bar(x - (1/2)*width, acc_matrix[:, 1], width, label='Test e2')\n",
    "    ax.bar(x + (1/2)*width, acc_matrix[:, 2], width, label='Test e3')\n",
    "    ax.bar(x + (3/2)*width, acc_matrix[:, 3], width, label='Test e4')\n",
    "    ax.set_xlabel('Experiences')\n",
    "    ax.set_ylabel('Accuracy')\n",
    "    ax.set_title(title)\n",
    "    ax.set_xticks(x)\n",
    "    ax.set_xticklabels(x_labels)\n",
    "\n",
    "    ax.legend()\n",
    "    plt.legend(loc='upper left', ncol=2)\n",
    "\n",
    "    plt.yticks(np.arange(0, 1.1, 0.1))\n",
    "    plt.show()"
   ]
  },
  {
   "cell_type": "code",
   "execution_count": 96,
   "metadata": {
    "executionInfo": {
     "elapsed": 3,
     "status": "ok",
     "timestamp": 1696862938073,
     "user": {
      "displayName": "Erika Buoninfante",
      "userId": "14616066065245091588"
     },
     "user_tz": -120
    },
    "id": "nNA0SF8lubWs"
   },
   "outputs": [],
   "source": [
    "# Average accuracy\n",
    "def average_accuracy(accuracy, num_exp):\n",
    "  avg = 0\n",
    "  for i in range(num_exp):\n",
    "    avg += accuracy[num_exp-1][i]\n",
    "  avg /= num_exp\n",
    "  return avg\n",
    "\n",
    "# A metric\n",
    "def a_metric(accuracy, num_exp):\n",
    "  a = 0\n",
    "  for i in range(num_exp):\n",
    "    for j in range(i+1):\n",
    "      a += accuracy[i][j]\n",
    "  a /= (num_exp * (num_exp + 1) / 2)\n",
    "  return a\n",
    "\n",
    "# Forward transfer metric\n",
    "def ft_metric(accuracy, accuracy_random, num_exp):\n",
    "  ft = 0\n",
    "  for i in range(1,num_exp):\n",
    "    ft += (accuracy[i-1][i] - accuracy_random[i])\n",
    "  ft /= (num_exp-1)\n",
    "  return float(ft[0])\n",
    "\n",
    "# Backward transfer metric\n",
    "def bt_metric(accuracy, num_exp):\n",
    "  bt = 0\n",
    "  for i in range(0,num_exp-1):\n",
    "    bt += (accuracy[num_exp-1][i] - accuracy[i][i])\n",
    "  bt /= (num_exp-1)\n",
    "  return bt"
   ]
  },
  {
   "cell_type": "markdown",
   "metadata": {
    "id": "ycY8Br2W-Go9"
   },
   "source": [
    "## Adaptive Random Forest"
   ]
  },
  {
   "cell_type": "markdown",
   "metadata": {
    "id": "RcUdKElHA6wA"
   },
   "source": [
    "It's not possible to test the ARFClassifier and HoeffdingAdaptiveTreeClassifier without training them first. Therefore, I used random vectors to simulate random predictions, aiming to compute the forward transfer metric later."
   ]
  },
  {
   "cell_type": "code",
   "execution_count": 97,
   "metadata": {
    "colab": {
     "base_uri": "https://localhost:8080/"
    },
    "executionInfo": {
     "elapsed": 636,
     "status": "ok",
     "timestamp": 1696862940996,
     "user": {
      "displayName": "Erika Buoninfante",
      "userId": "14616066065245091588"
     },
     "user_tz": -120
    },
    "id": "ThSH42Ix_3eC",
    "outputId": "1cfecce4-d46b-41b7-ef9a-b998c0d44711"
   },
   "outputs": [
    {
     "data": {
      "text/plain": [
       "{0: [0.5218340611353712],\n",
       " 1: [0.5148514851485149],\n",
       " 2: [0.49106002554278416],\n",
       " 3: [0.4849230769230769]}"
      ]
     },
     "execution_count": 97,
     "metadata": {},
     "output_type": "execute_result"
    }
   ],
   "source": [
    "# Accuracy of random model\n",
    "ARF_random_accuracy = {i: [] for i in range(num_experiences)}\n",
    "np.random.seed(42)\n",
    "\n",
    "for i in range (num_experiences):\n",
    "  y_pred = []\n",
    "  y_pred = np.random.randint(2, size=len(y_test[i]))   # simulate predictions\n",
    "  ARF_random_accuracy[i].append(accuracy_score(y_test[i], y_pred))\n",
    "\n",
    "ARF_random_accuracy"
   ]
  },
  {
   "cell_type": "markdown",
   "metadata": {
    "id": "wPier4bROAE6"
   },
   "source": [
    "Since it is a binary classification problem, I think it's reasonable to expect that a random model would give the correct answer around 50% of the time."
   ]
  },
  {
   "cell_type": "code",
   "execution_count": 98,
   "metadata": {
    "executionInfo": {
     "elapsed": 414,
     "status": "ok",
     "timestamp": 1696862943920,
     "user": {
      "displayName": "Erika Buoninfante",
      "userId": "14616066065245091588"
     },
     "user_tz": -120
    },
    "id": "_Sj8ORLIkbm9"
   },
   "outputs": [],
   "source": [
    "# Define the model adding a drift detector\n",
    "ARF_model = ARFClassifier(n_models=5, drift_detector=drift.ADWIN(delta=0.001), warning_detector=drift.ADWIN(delta=0.01), seed=42)\n",
    "\n",
    "ARF_accuracy = {i: [] for i in range(num_experiences)}"
   ]
  },
  {
   "cell_type": "markdown",
   "metadata": {
    "id": "ZhaWDdfo3Jiv"
   },
   "source": [
    "Train the model and compute the values in the following table.\n",
    "\\\n",
    "<b>R<sub>i,j</sub></b>: Accuracy computed after training on the i-th experience and testing on the j-th experience\n",
    "\n",
    "\\\n",
    "\n",
    "|         | <font size=\"4\">Test e<sub>1</sub></font> | <font size=\"4\">Test e<sub>2</sub></font> | <font size=\"4\">Test e<sub>3</sub></font> | <font size=\"4\">Test e<sub>4</sub></font> |\n",
    "|---------|-------------------------------------|-------------------------------------|-------------------------------------|-------------------------------------|\n",
    "| <b><font size=\"4\">Train e<sub>1</sub></font></b> | <font size=\"4\">R<sub>1,1</sub></font> | <font size=\"4\">R<sub>1,2</sub></font> | <font size=\"4\">R<sub>1,3</sub></font> | <font size=\"4\">R<sub>1,4</sub></font> |\n",
    "| <b><font size=\"4\">Train e<sub>2</sub></font></b> | <font size=\"4\">R<sub>2,1</sub></font> | <font size=\"4\">R<sub>2,2</sub></font> | <font size=\"4\">R<sub>2,3</sub></font> | <font size=\"4\">R<sub>2,4</sub></font> |\n",
    "| <b><font size=\"4\">Train e<sub>3</sub></font></b> | <font size=\"4\">R<sub>3,1</sub></font> | <font size=\"4\">R<sub>3,2</sub></font> | <font size=\"4\">R<sub>3,3</sub></font> | <font size=\"4\">R<sub>3,4</sub></font> |\n",
    "| <b><font size=\"4\">Train e<sub>4</sub></font></b> | <font size=\"4\">R<sub>4,1</sub></font> | <font size=\"4\">R<sub>4,2</sub></font> | <font size=\"4\">R<sub>4,3</sub></font> | <font size=\"4\">R<sub>4,4</sub></font> |\n",
    "\n",
    "\n",
    "\\\n",
    "The model is trained one sample at a time, from the\n",
    "first experience to the last one, and after each experience we compute its accuracy on the test sets of all experiences.\n",
    "\n",
    "\n",
    "\n",
    "\n",
    "\n"
   ]
  },
  {
   "cell_type": "code",
   "execution_count": 99,
   "metadata": {
    "colab": {
     "base_uri": "https://localhost:8080/"
    },
    "executionInfo": {
     "elapsed": 170094,
     "status": "ok",
     "timestamp": 1696863117574,
     "user": {
      "displayName": "Erika Buoninfante",
      "userId": "14616066065245091588"
     },
     "user_tz": -120
    },
    "id": "Irpe9_dHXNCT",
    "outputId": "a2f4c11e-861f-447c-d644-b241f2dd1d69"
   },
   "outputs": [
    {
     "name": "stdout",
     "output_type": "stream",
     "text": [
      "Start training on experience 1\n",
      "0\n",
      "1000\n",
      "2000\n",
      "3000\n",
      "4000\n",
      "5000\n",
      "6000\n",
      "7000\n",
      "End training on experience 1\n",
      "Computing accuracy values on all test sets..\n",
      "\tAccuracy R(1,1):  0.7096069868995634\n",
      "\tAccuracy R(1,2):  0.2667079207920792\n",
      "\tAccuracy R(1,3):  0.38569604086845466\n",
      "\tAccuracy R(1,4):  0.19507692307692306\n",
      "\n",
      "Start training on experience 2\n",
      "0\n",
      "1000\n",
      "2000\n",
      "3000\n",
      "4000\n",
      "5000\n",
      "6000\n",
      "End training on experience 2\n",
      "Computing accuracy values on all test sets..\n",
      "\tAccuracy R(2,1):  0.31277292576419213\n",
      "\tAccuracy R(2,2):  0.7326732673267327\n",
      "\tAccuracy R(2,3):  0.6174968071519795\n",
      "\tAccuracy R(2,4):  0.7581538461538462\n",
      "\n",
      "Start training on experience 3\n",
      "0\n",
      "1000\n",
      "2000\n",
      "3000\n",
      "4000\n",
      "5000\n",
      "6000\n",
      "End training on experience 3\n",
      "Computing accuracy values on all test sets..\n",
      "\tAccuracy R(3,1):  0.6048034934497817\n",
      "\tAccuracy R(3,2):  0.5284653465346535\n",
      "\tAccuracy R(3,3):  0.6590038314176245\n",
      "\tAccuracy R(3,4):  0.6209230769230769\n",
      "\n",
      "Start training on experience 4\n",
      "0\n",
      "1000\n",
      "2000\n",
      "3000\n",
      "4000\n",
      "5000\n",
      "6000\n",
      "End training on experience 4\n",
      "Computing accuracy values on all test sets..\n",
      "\tAccuracy R(4,1):  0.40556768558951967\n",
      "\tAccuracy R(4,2):  0.5445544554455446\n",
      "\tAccuracy R(4,3):  0.6245210727969349\n",
      "\tAccuracy R(4,4):  0.9778461538461538\n",
      "\n"
     ]
    }
   ],
   "source": [
    "# Train the model one experience after the other\n",
    "for i in range(num_experiences):\n",
    "  print(\"Start training on experience \" + str(i+1))\n",
    "  SML_train(ARF_model, X_train[i], y_train[i])\n",
    "  print(\"End training on experience \" + str(i+1))\n",
    "\n",
    "  # Compute the accuracy of the i-th model wrt the experience j\n",
    "  print(\"Computing accuracy values on all test sets..\")\n",
    "  for j in range(num_experiences):\n",
    "    y_pred = SML_test(ARF_model, X_test[j])\n",
    "    ARF_accuracy[i].insert(j, accuracy_score(y_test[j], y_pred))\n",
    "    print(\"\\tAccuracy R(\"+str(i+1)+\",\"+str(j+1)+\"): \", ARF_accuracy[i][j])\n",
    "  print()"
   ]
  },
  {
   "cell_type": "markdown",
   "metadata": {
    "id": "QCcONcFkVElu"
   },
   "source": [
    "### Plot performances"
   ]
  },
  {
   "cell_type": "code",
   "execution_count": 100,
   "metadata": {
    "colab": {
     "base_uri": "https://localhost:8080/",
     "height": 420
    },
    "executionInfo": {
     "elapsed": 765,
     "status": "ok",
     "timestamp": 1696863148075,
     "user": {
      "displayName": "Erika Buoninfante",
      "userId": "14616066065245091588"
     },
     "user_tz": -120
    },
    "id": "tllPXmU7dtsq",
    "outputId": "6a25d2e7-e78e-4b26-9422-8cd0d57e4d52"
   },
   "outputs": [
    {
     "name": "stdout",
     "output_type": "stream",
     "text": [
      "Train e1:  [0.7096069868995634, 0.2667079207920792, 0.38569604086845466, 0.19507692307692306]\n",
      "Train e2:  [0.31277292576419213, 0.7326732673267327, 0.6174968071519795, 0.7581538461538462]\n",
      "Train e3:  [0.6048034934497817, 0.5284653465346535, 0.6590038314176245, 0.6209230769230769]\n",
      "Train e4:  [0.40556768558951967, 0.5445544554455446, 0.6245210727969349, 0.9778461538461538]\n",
      "\n"
     ]
    },
    {
     "data": {
      "image/png": "[encoded data removed]",
      "text/plain": [
       "<Figure size 600x300 with 1 Axes>"
      ]
     },
     "metadata": {},
     "output_type": "display_data"
    }
   ],
   "source": [
    "for i in range(num_experiences):\n",
    "  print(\"Train e\"+str(i+1)+': ', ARF_accuracy[i])\n",
    "print()\n",
    "plot_performances('ARF performance', ARF_accuracy)"
   ]
  },
  {
   "cell_type": "markdown",
   "metadata": {
    "id": "R1dNrNl3hPls"
   },
   "source": [
    "The model exhibits **plasticity** as it can continuously learn and adapt to subsequent experiences, but it lacks stability as the performance on previously learned experiences is reduced, especially in the first one."
   ]
  },
  {
   "cell_type": "markdown",
   "metadata": {
    "id": "RKtOSNNRvYLy"
   },
   "source": [
    "### Metrics"
   ]
  },
  {
   "cell_type": "code",
   "execution_count": 101,
   "metadata": {
    "executionInfo": {
     "elapsed": 265,
     "status": "ok",
     "timestamp": 1696863174393,
     "user": {
      "displayName": "Erika Buoninfante",
      "userId": "14616066065245091588"
     },
     "user_tz": -120
    },
    "id": "nvtDPJEbvVxk"
   },
   "outputs": [],
   "source": [
    "# Average accuracy\n",
    "ARF_avg_accuracy = average_accuracy(ARF_accuracy, num_experiences)\n",
    "\n",
    "# A metric\n",
    "ARF_a_metric = a_metric(ARF_accuracy, num_experiences)\n",
    "\n",
    "# Forward transfer metric\n",
    "ARF_ft_metric = ft_metric(ARF_accuracy, ARF_random_accuracy, num_experiences)\n",
    "\n",
    "# Backward transfer metric\n",
    "ARF_bt_metric = bt_metric(ARF_accuracy, num_experiences)"
   ]
  },
  {
   "cell_type": "code",
   "execution_count": 102,
   "metadata": {
    "colab": {
     "base_uri": "https://localhost:8080/"
    },
    "executionInfo": {
     "elapsed": 402,
     "status": "ok",
     "timestamp": 1696863177667,
     "user": {
      "displayName": "Erika Buoninfante",
      "userId": "14616066065245091588"
     },
     "user_tz": -120
    },
    "id": "-snX1-qY91jK",
    "outputId": "9e20ea40-5e0a-46f8-d7b9-0429c8bfd3f9"
   },
   "outputs": [
    {
     "name": "stdout",
     "output_type": "stream",
     "text": [
      "Average accuracy:  0.6381223419195383\n",
      "A metric:  0.6099815219070702\n",
      "Forward transfer metric:  0.004764405750919909\n",
      "Backward transfer metric:  -0.17554695727064043\n"
     ]
    }
   ],
   "source": [
    "print('Average accuracy: ', ARF_avg_accuracy)\n",
    "print('A metric: ', ARF_a_metric)\n",
    "print('Forward transfer metric: ', ARF_ft_metric)\n",
    "print('Backward transfer metric: ', ARF_bt_metric)"
   ]
  },
  {
   "cell_type": "markdown",
   "metadata": {
    "id": "3F4ZpHa1XOBT"
   },
   "source": [
    "A negative value of **backward transfer** indicates forgetting, a point that is clearly evident from the plot. On the other hand, when considering the **forward transfer** property, the plot shows that during the third training, the fourth experience does not exhibit an improvement in performance. However, when we also consider the forward transfer metric, the model does show a slight ability to enhance its performance on future experiences (wrt a random model). Nevertheless, since the value is quite small, it may vary depending on the training or the performance of the random model and even become negative. In conclusion, I would not consider it a valid property of the model."
   ]
  },
  {
   "cell_type": "markdown",
   "metadata": {
    "id": "vY_cge6G-Go9"
   },
   "source": [
    "## Hoeffding Adaptive Tree"
   ]
  },
  {
   "cell_type": "code",
   "execution_count": 103,
   "metadata": {
    "colab": {
     "base_uri": "https://localhost:8080/"
    },
    "executionInfo": {
     "elapsed": 448,
     "status": "ok",
     "timestamp": 1696863190997,
     "user": {
      "displayName": "Erika Buoninfante",
      "userId": "14616066065245091588"
     },
     "user_tz": -120
    },
    "id": "fwq9PhnDDjUo",
    "outputId": "c73d928c-a934-4cb7-d4b4-33394051a4ca"
   },
   "outputs": [
    {
     "data": {
      "text/plain": [
       "{0: [0.49890829694323147],\n",
       " 1: [0.4969059405940594],\n",
       " 2: [0.5063856960408685],\n",
       " 3: [0.5138461538461538]}"
      ]
     },
     "execution_count": 103,
     "metadata": {},
     "output_type": "execute_result"
    }
   ],
   "source": [
    "# Accuracy of random model\n",
    "HAT_random_accuracy = {i: [] for i in range(num_experiences)}\n",
    "np.random.seed(3)\n",
    "\n",
    "for i in range (num_experiences):\n",
    "  y_pred = []\n",
    "  y_pred = np.random.randint(2, size=len(y_test[i]))   # simulate predictions\n",
    "  HAT_random_accuracy[i].append(accuracy_score(y_test[i], y_pred))\n",
    "\n",
    "HAT_random_accuracy"
   ]
  },
  {
   "cell_type": "code",
   "execution_count": 104,
   "metadata": {
    "executionInfo": {
     "elapsed": 314,
     "status": "ok",
     "timestamp": 1696863196232,
     "user": {
      "displayName": "Erika Buoninfante",
      "userId": "14616066065245091588"
     },
     "user_tz": -120
    },
    "id": "2LnvTl4YWNsi"
   },
   "outputs": [],
   "source": [
    "# Define the model\n",
    "HAT_model = HoeffdingAdaptiveTreeClassifier(seed=42)\n",
    "\n",
    "HAT_accuracy = {i: [] for i in range(num_experiences)}"
   ]
  },
  {
   "cell_type": "code",
   "execution_count": 105,
   "metadata": {
    "colab": {
     "base_uri": "https://localhost:8080/"
    },
    "executionInfo": {
     "elapsed": 455001,
     "status": "ok",
     "timestamp": 1696863653421,
     "user": {
      "displayName": "Erika Buoninfante",
      "userId": "14616066065245091588"
     },
     "user_tz": -120
    },
    "id": "0scz4TdcWORA",
    "outputId": "791ec9a4-d5bd-4c81-8b7a-371948e437db"
   },
   "outputs": [
    {
     "name": "stdout",
     "output_type": "stream",
     "text": [
      "Start training on experience 1\n",
      "0\n",
      "1000\n",
      "2000\n",
      "3000\n",
      "4000\n",
      "5000\n",
      "6000\n",
      "7000\n",
      "End training on experience 1\n",
      "Computing accuracy values on all test sets..\n",
      "\tAccuracy R(1,1):  0.6719432314410481\n",
      "\tAccuracy R(1,2):  0.275990099009901\n",
      "\tAccuracy R(1,3):  0.36909323116219667\n",
      "\tAccuracy R(1,4):  0.2443076923076923\n",
      "\n",
      "Start training on experience 2\n",
      "0\n",
      "1000\n",
      "2000\n",
      "3000\n",
      "4000\n",
      "5000\n",
      "6000\n",
      "End training on experience 2\n",
      "Computing accuracy values on all test sets..\n",
      "\tAccuracy R(2,1):  0.3564410480349345\n",
      "\tAccuracy R(2,2):  0.7128712871287128\n",
      "\tAccuracy R(2,3):  0.49744572158365263\n",
      "\tAccuracy R(2,4):  0.4590769230769231\n",
      "\n",
      "Start training on experience 3\n",
      "0\n",
      "1000\n",
      "2000\n",
      "3000\n",
      "4000\n",
      "5000\n",
      "6000\n",
      "End training on experience 3\n",
      "Computing accuracy values on all test sets..\n",
      "\tAccuracy R(3,1):  0.6009825327510917\n",
      "\tAccuracy R(3,2):  0.37995049504950495\n",
      "\tAccuracy R(3,3):  0.6500638569604087\n",
      "\tAccuracy R(3,4):  0.664\n",
      "\n",
      "Start training on experience 4\n",
      "0\n",
      "1000\n",
      "2000\n",
      "3000\n",
      "4000\n",
      "5000\n",
      "6000\n",
      "End training on experience 4\n",
      "Computing accuracy values on all test sets..\n",
      "\tAccuracy R(4,1):  0.4705240174672489\n",
      "\tAccuracy R(4,2):  0.41398514851485146\n",
      "\tAccuracy R(4,3):  0.5747126436781609\n",
      "\tAccuracy R(4,4):  0.9384615384615385\n",
      "\n"
     ]
    }
   ],
   "source": [
    "# Train the model one experience after the other\n",
    "for i in range(num_experiences):\n",
    "  print(\"Start training on experience \" + str(i+1))\n",
    "  SML_train(HAT_model, X_train[i], y_train[i])\n",
    "  print(\"End training on experience \" + str(i+1))\n",
    "\n",
    "  # Compute the accuracy of the i-th model wrt the experience j\n",
    "  print(\"Computing accuracy values on all test sets..\")\n",
    "  for j in range(num_experiences):\n",
    "    y_pred = SML_test(HAT_model, X_test[j])\n",
    "    HAT_accuracy[i].insert(j, accuracy_score(y_test[j], y_pred))\n",
    "    print(\"\\tAccuracy R(\"+str(i+1)+\",\"+str(j+1)+\"): \", HAT_accuracy[i][j])\n",
    "  print()"
   ]
  },
  {
   "cell_type": "markdown",
   "metadata": {
    "id": "sOTheccYWwNN"
   },
   "source": [
    "### Plot performances"
   ]
  },
  {
   "cell_type": "code",
   "execution_count": 106,
   "metadata": {
    "colab": {
     "base_uri": "https://localhost:8080/",
     "height": 420
    },
    "executionInfo": {
     "elapsed": 887,
     "status": "ok",
     "timestamp": 1696863674068,
     "user": {
      "displayName": "Erika Buoninfante",
      "userId": "14616066065245091588"
     },
     "user_tz": -120
    },
    "id": "rA2HrfIYZ555",
    "outputId": "d1739cf5-ceee-4447-f1a7-029591e90184"
   },
   "outputs": [
    {
     "name": "stdout",
     "output_type": "stream",
     "text": [
      "Train e1:  [0.6719432314410481, 0.275990099009901, 0.36909323116219667, 0.2443076923076923]\n",
      "Train e2:  [0.3564410480349345, 0.7128712871287128, 0.49744572158365263, 0.4590769230769231]\n",
      "Train e3:  [0.6009825327510917, 0.37995049504950495, 0.6500638569604087, 0.664]\n",
      "Train e4:  [0.4705240174672489, 0.41398514851485146, 0.5747126436781609, 0.9384615384615385]\n",
      "\n"
     ]
    },
    {
     "data": {
      "image/png": "[encoded data removed]",
      "text/plain": [
       "<Figure size 600x300 with 1 Axes>"
      ]
     },
     "metadata": {},
     "output_type": "display_data"
    }
   ],
   "source": [
    "for i in range(num_experiences):\n",
    "  print(\"Train e\"+str(i+1)+': ', HAT_accuracy[i])\n",
    "print()\n",
    "plot_performances('HAT performance', HAT_accuracy)"
   ]
  },
  {
   "cell_type": "markdown",
   "metadata": {
    "id": "h88-2NWF-ekw"
   },
   "source": [
    "The model exhibits **plasticity** as it can continuously learn and adapt to subsequent experiences, but it lacks stability as the performance on previously learned experiences is reduced."
   ]
  },
  {
   "cell_type": "markdown",
   "metadata": {
    "id": "P-9B1SmDwuQa"
   },
   "source": [
    "### Metrics"
   ]
  },
  {
   "cell_type": "code",
   "execution_count": 107,
   "metadata": {
    "executionInfo": {
     "elapsed": 1049,
     "status": "ok",
     "timestamp": 1696863686218,
     "user": {
      "displayName": "Erika Buoninfante",
      "userId": "14616066065245091588"
     },
     "user_tz": -120
    },
    "id": "Lmn_Q-46wtx7"
   },
   "outputs": [],
   "source": [
    "# Average accuracy\n",
    "HAT_avg_accuracy = average_accuracy(HAT_accuracy, num_experiences)\n",
    "\n",
    "# A metric\n",
    "HAT_a_metric = a_metric(HAT_accuracy, num_experiences)\n",
    "\n",
    "# Forward transfer metric\n",
    "HAT_ft_metric = ft_metric(HAT_accuracy, HAT_random_accuracy, num_experiences)\n",
    "\n",
    "# Backward transfer metric\n",
    "HAT_bt_metric = bt_metric(HAT_accuracy, num_experiences)"
   ]
  },
  {
   "cell_type": "code",
   "execution_count": 109,
   "metadata": {
    "colab": {
     "base_uri": "https://localhost:8080/"
    },
    "executionInfo": {
     "elapsed": 517,
     "status": "ok",
     "timestamp": 1696863769548,
     "user": {
      "displayName": "Erika Buoninfante",
      "userId": "14616066065245091588"
     },
     "user_tz": -120
    },
    "id": "OnAxgMn19A0y",
    "outputId": "cfd8f298-20ce-45c5-846b-1c79dd5c995a"
   },
   "outputs": [
    {
     "name": "stdout",
     "output_type": "stream",
     "text": [
      "Average accuracy:  0.5994208370304499\n",
      "A metric:  0.57699357994875\n",
      "Forward transfer metric:  -0.026567323295842677\n",
      "Backward transfer metric:  -0.1918855219566361\n"
     ]
    }
   ],
   "source": [
    "print('Average accuracy: ', HAT_avg_accuracy)\n",
    "print('A metric: ', HAT_a_metric)\n",
    "print('Forward transfer metric: ', HAT_ft_metric)\n",
    "print('Backward transfer metric: ', HAT_bt_metric)"
   ]
  },
  {
   "cell_type": "markdown",
   "metadata": {
    "id": "QPtaqpxxolGp"
   },
   "source": [
    "No **backward transfer** property is observed. In the case of the **forward transfer** property, the situation is the exact opposite compared to the previous model. From the plot, it might seem that the model possesses this property; however, the ft metric indicates the opposite. Since also in this case the value is very small, I would not consider this a strong property of the model."
   ]
  },
  {
   "cell_type": "markdown",
   "metadata": {
    "id": "fFwWkj4yq_kK"
   },
   "source": [
    "## SML models (2nd case)\n",
    "\n",
    "The SML models, for each task, can use the entire experience to learn continuously (including both training and test sets). For the performance evaluation, after each experience's training, you must evaluate the performance on the current test set\n",
    "using the prequential evaluation: on each data point of the test set, first test and then train. Then, you must only perform the test phase without training on the other experiences. Please be aware that, in this case, we are using the test set of the previous experiences on which we have previously trained the model. Despite this, it could still be helpful to analyze the stability of the SML models."
   ]
  },
  {
   "cell_type": "code",
   "execution_count": 110,
   "metadata": {
    "executionInfo": {
     "elapsed": 593,
     "status": "ok",
     "timestamp": 1696863814315,
     "user": {
      "displayName": "Erika Buoninfante",
      "userId": "14616066065245091588"
     },
     "user_tz": -120
    },
    "id": "N7hPMLNWt3Nw"
   },
   "outputs": [],
   "source": [
    "# from Numpy array to Dataframe\n",
    "data = dict()\n",
    "for i in range(num_experiences):\n",
    "  data[i] = pd.DataFrame(data=X_test[i])\n",
    "  data[i]['target'] = pd.DataFrame(data=y_test[i])\n",
    "\n",
    "#data"
   ]
  },
  {
   "cell_type": "markdown",
   "metadata": {
    "id": "hygANATZx-dN"
   },
   "source": [
    "### Adaptive Random Forest"
   ]
  },
  {
   "cell_type": "code",
   "execution_count": 111,
   "metadata": {
    "colab": {
     "base_uri": "https://localhost:8080/"
    },
    "executionInfo": {
     "elapsed": 269,
     "status": "ok",
     "timestamp": 1696863819408,
     "user": {
      "displayName": "Erika Buoninfante",
      "userId": "14616066065245091588"
     },
     "user_tz": -120
    },
    "id": "VdPkUK-4Dt9t",
    "outputId": "a2842d47-0790-453d-ec15-ac1f991051f3"
   },
   "outputs": [
    {
     "data": {
      "text/plain": [
       "{0: [0.5218340611353712],\n",
       " 1: [0.5148514851485149],\n",
       " 2: [0.49106002554278416],\n",
       " 3: [0.4849230769230769]}"
      ]
     },
     "execution_count": 111,
     "metadata": {},
     "output_type": "execute_result"
    }
   ],
   "source": [
    "# Accuracy of random model\n",
    "ARF2_random_accuracy = {i: [] for i in range(num_experiences)}\n",
    "np.random.seed(42)\n",
    "\n",
    "for i in range (num_experiences):\n",
    "  y_pred = []\n",
    "  y_pred = np.random.randint(2, size=len(y_test[i]))   # simulate predictions\n",
    "  ARF2_random_accuracy[i].append(accuracy_score(y_test[i], y_pred))\n",
    "\n",
    "ARF2_random_accuracy"
   ]
  },
  {
   "cell_type": "code",
   "execution_count": 112,
   "metadata": {
    "executionInfo": {
     "elapsed": 950,
     "status": "ok",
     "timestamp": 1696863824424,
     "user": {
      "displayName": "Erika Buoninfante",
      "userId": "14616066065245091588"
     },
     "user_tz": -120
    },
    "id": "hhXLZp4NrSfm"
   },
   "outputs": [],
   "source": [
    "# Define the model adding a drift detector\n",
    "ARF2_model = ARFClassifier(n_models=5, drift_detector=drift.ADWIN(delta=0.001), warning_detector=drift.ADWIN(delta=0.01), seed=42)\n",
    "\n",
    "ARF2_accuracy = {i: [] for i in range(num_experiences)}"
   ]
  },
  {
   "cell_type": "code",
   "execution_count": 113,
   "metadata": {
    "colab": {
     "base_uri": "https://localhost:8080/"
    },
    "executionInfo": {
     "elapsed": 210655,
     "status": "ok",
     "timestamp": 1696864037857,
     "user": {
      "displayName": "Erika Buoninfante",
      "userId": "14616066065245091588"
     },
     "user_tz": -120
    },
    "id": "vfRLKX07sn-W",
    "outputId": "e8e3e2ba-aa7f-4b64-edc9-c0c17f6b093b"
   },
   "outputs": [
    {
     "name": "stdout",
     "output_type": "stream",
     "text": [
      "Start training on experience 1\n",
      "0\n",
      "1000\n",
      "2000\n",
      "3000\n",
      "4000\n",
      "5000\n",
      "6000\n",
      "7000\n",
      "Prequential evaluation on current experience test set..\n",
      "[500] Accuracy: 72.00%\n",
      "[1,000] Accuracy: 71.70%\n",
      "[1,500] Accuracy: 72.07%\n",
      "[1,832] Accuracy: 71.67%\n",
      "\tAccuracy R(1,1):  0.7167030567685589\n",
      "End training on experience 1\n",
      "\n",
      "Computing accuracy values on other test sets..\n",
      "\tAccuracy R(1,2):  0.26732673267326734\n",
      "\tAccuracy R(1,3):  0.3837803320561941\n",
      "\tAccuracy R(1,4):  0.19815384615384615\n",
      "\n",
      "Start training on experience 2\n",
      "0\n",
      "1000\n",
      "2000\n",
      "3000\n",
      "4000\n",
      "5000\n",
      "6000\n",
      "Prequential evaluation on current experience test set..\n",
      "[500] Accuracy: 69.40%\n",
      "[1,000] Accuracy: 70.90%\n",
      "[1,500] Accuracy: 71.47%\n",
      "[1,616] Accuracy: 72.34%\n",
      "\tAccuracy R(2,2):  0.7233910891089109\n",
      "End training on experience 2\n",
      "\n",
      "Computing accuracy values on other test sets..\n",
      "\tAccuracy R(2,1):  0.29366812227074235\n",
      "\tAccuracy R(2,3):  0.6040868454661558\n",
      "\tAccuracy R(2,4):  0.7753846153846153\n",
      "\n",
      "Start training on experience 3\n",
      "0\n",
      "1000\n",
      "2000\n",
      "3000\n",
      "4000\n",
      "5000\n",
      "6000\n",
      "Prequential evaluation on current experience test set..\n",
      "[500] Accuracy: 64.80%\n",
      "[1,000] Accuracy: 64.20%\n",
      "[1,500] Accuracy: 66.80%\n",
      "[1,566] Accuracy: 66.73%\n",
      "\tAccuracy R(3,3):  0.6673052362707536\n",
      "End training on experience 3\n",
      "\n",
      "Computing accuracy values on other test sets..\n",
      "\tAccuracy R(3,1):  0.6124454148471615\n",
      "\tAccuracy R(3,2):  0.5383663366336634\n",
      "\tAccuracy R(3,4):  0.6615384615384615\n",
      "\n",
      "Start training on experience 4\n",
      "0\n",
      "1000\n",
      "2000\n",
      "3000\n",
      "4000\n",
      "5000\n",
      "6000\n",
      "Prequential evaluation on current experience test set..\n",
      "[500] Accuracy: 97.00%\n",
      "[1,000] Accuracy: 97.50%\n",
      "[1,500] Accuracy: 97.40%\n",
      "[1,625] Accuracy: 97.54%\n",
      "\tAccuracy R(4,4):  0.9753846153846154\n",
      "End training on experience 4\n",
      "\n",
      "Computing accuracy values on other test sets..\n",
      "\tAccuracy R(4,1):  0.40829694323144106\n",
      "\tAccuracy R(4,2):  0.5532178217821783\n",
      "\tAccuracy R(4,3):  0.6385696040868455\n",
      "\n"
     ]
    }
   ],
   "source": [
    "# Train the model one experience after the other and do prequential evaluation on test set of current experience\n",
    "for i in range(num_experiences):\n",
    "  print(\"Start training on experience \" + str(i+1))\n",
    "  SML_train(ARF2_model, X_train[i], y_train[i])\n",
    "\n",
    "  print(\"Prequential evaluation on current experience test set..\")\n",
    "  # Create stream from i-th test set\n",
    "  stream = iter_pandas(X=data[i].iloc[:, :-1], y=data[i]['target'])\n",
    "  metric = Accuracy()\n",
    "  progressive_val_score(dataset=stream,\n",
    "                      model=ARF2_model,\n",
    "                      metric=metric,\n",
    "                      print_every=500)\n",
    "\n",
    "  # Store accuracy R(i,i) obtained from prequential evaluation\n",
    "  ARF2_accuracy[i].insert(i, metric.get())\n",
    "  print(\"\\tAccuracy R(\"+str(i+1)+\",\"+str(i+1)+\"): \", ARF2_accuracy[i][0])\n",
    "  print(\"End training on experience \" + str(i+1) + \"\\n\")\n",
    "\n",
    "  # Compute the accuracy of the i-th model wrt the experience j!=i\n",
    "  print(\"Computing accuracy values on other test sets..\")\n",
    "  for j in range(num_experiences):\n",
    "    if j != i:\n",
    "      y_pred = SML_test(ARF2_model, X_test[j])\n",
    "      ARF2_accuracy[i].insert(j, accuracy_score(y_test[j], y_pred))\n",
    "      print(\"\\tAccuracy R(\"+str(i+1)+\",\"+str(j+1)+\"): \", ARF2_accuracy[i][j])\n",
    "  print()\n"
   ]
  },
  {
   "cell_type": "markdown",
   "metadata": {
    "id": "d_Z74-Pog1Se"
   },
   "source": [
    "#### Plot performances"
   ]
  },
  {
   "cell_type": "code",
   "execution_count": 114,
   "metadata": {
    "colab": {
     "base_uri": "https://localhost:8080/",
     "height": 420
    },
    "executionInfo": {
     "elapsed": 307,
     "status": "ok",
     "timestamp": 1696864052998,
     "user": {
      "displayName": "Erika Buoninfante",
      "userId": "14616066065245091588"
     },
     "user_tz": -120
    },
    "id": "RRj8lqVvd27q",
    "outputId": "b0610fb7-9b29-44e7-eade-2f9dede38fb7"
   },
   "outputs": [
    {
     "name": "stdout",
     "output_type": "stream",
     "text": [
      "Train e1:  [0.7167030567685589, 0.26732673267326734, 0.3837803320561941, 0.19815384615384615]\n",
      "Train e2:  [0.29366812227074235, 0.7233910891089109, 0.6040868454661558, 0.7753846153846153]\n",
      "Train e3:  [0.6124454148471615, 0.5383663366336634, 0.6673052362707536, 0.6615384615384615]\n",
      "Train e4:  [0.40829694323144106, 0.5532178217821783, 0.6385696040868455, 0.9753846153846154]\n",
      "\n"
     ]
    },
    {
     "data": {
      "image/png": "[encoded data removed]",
      "text/plain": [
       "<Figure size 600x300 with 1 Axes>"
      ]
     },
     "metadata": {},
     "output_type": "display_data"
    }
   ],
   "source": [
    "for i in range(num_experiences):\n",
    "  print(\"Train e\"+str(i+1)+': ', ARF2_accuracy[i])\n",
    "print()\n",
    "plot_performances('ARF2 performances', ARF2_accuracy)"
   ]
  },
  {
   "cell_type": "markdown",
   "metadata": {
    "id": "1SrS87QyLQz1"
   },
   "source": [
    "#### Metrics"
   ]
  },
  {
   "cell_type": "code",
   "execution_count": 115,
   "metadata": {
    "executionInfo": {
     "elapsed": 254,
     "status": "ok",
     "timestamp": 1696864057652,
     "user": {
      "displayName": "Erika Buoninfante",
      "userId": "14616066065245091588"
     },
     "user_tz": -120
    },
    "id": "0xc-hueqLUdg"
   },
   "outputs": [],
   "source": [
    "# Average accuracy\n",
    "ARF2_avg_accuracy = average_accuracy(ARF2_accuracy, num_experiences)\n",
    "\n",
    "# A metric\n",
    "ARF2_a_metric = a_metric(ARF2_accuracy, num_experiences)\n",
    "\n",
    "# Forward transfer metric\n",
    "ARF2_ft_metric = ft_metric(ARF2_accuracy, ARF2_random_accuracy, num_experiences)\n",
    "\n",
    "# Backward transfer metric\n",
    "ARF2_bt_metric = bt_metric(ARF2_accuracy, num_experiences)"
   ]
  },
  {
   "cell_type": "code",
   "execution_count": 116,
   "metadata": {
    "colab": {
     "base_uri": "https://localhost:8080/"
    },
    "executionInfo": {
     "elapsed": 504,
     "status": "ok",
     "timestamp": 1696864062088,
     "user": {
      "displayName": "Erika Buoninfante",
      "userId": "14616066065245091588"
     },
     "user_tz": -120
    },
    "id": "KS7AKBgXLZye",
    "outputId": "dbfec42d-a964-4242-dfe6-0482c46f33cf"
   },
   "outputs": [
    {
     "name": "stdout",
     "output_type": "stream",
     "text": [
      "Average accuracy:  0.64386724612127\n",
      "A metric:  0.6127348240384871\n",
      "Forward transfer metric:  0.014039150687836233\n",
      "Backward transfer metric:  -0.16910500434925288\n"
     ]
    }
   ],
   "source": [
    "print('Average accuracy: ', ARF2_avg_accuracy)\n",
    "print('A metric: ', ARF2_a_metric)\n",
    "print('Forward transfer metric: ', ARF2_ft_metric)\n",
    "print('Backward transfer metric: ', ARF2_bt_metric)"
   ]
  },
  {
   "cell_type": "markdown",
   "metadata": {
    "id": "b9UIaR4iyr0f"
   },
   "source": [
    "### Hoeffding Adaptive Tree"
   ]
  },
  {
   "cell_type": "code",
   "execution_count": 117,
   "metadata": {
    "colab": {
     "base_uri": "https://localhost:8080/"
    },
    "executionInfo": {
     "elapsed": 330,
     "status": "ok",
     "timestamp": 1696864070224,
     "user": {
      "displayName": "Erika Buoninfante",
      "userId": "14616066065245091588"
     },
     "user_tz": -120
    },
    "id": "D6L4cSZ7Dy7B",
    "outputId": "f7aaf894-162e-4527-bf61-b36f179a6b6e"
   },
   "outputs": [
    {
     "data": {
      "text/plain": [
       "{0: [0.49890829694323147],\n",
       " 1: [0.4969059405940594],\n",
       " 2: [0.5063856960408685],\n",
       " 3: [0.5138461538461538]}"
      ]
     },
     "execution_count": 117,
     "metadata": {},
     "output_type": "execute_result"
    }
   ],
   "source": [
    "# Accuracy of random model\n",
    "HAT2_random_accuracy = {i: [] for i in range(num_experiences)}\n",
    "np.random.seed(3)\n",
    "\n",
    "for i in range (num_experiences):\n",
    "  y_pred = []\n",
    "  y_pred = np.random.randint(2, size=len(y_test[i]))   # simulate predictions\n",
    "  HAT2_random_accuracy[i].append(accuracy_score(y_test[i], y_pred))\n",
    "\n",
    "HAT2_random_accuracy"
   ]
  },
  {
   "cell_type": "code",
   "execution_count": 118,
   "metadata": {
    "executionInfo": {
     "elapsed": 281,
     "status": "ok",
     "timestamp": 1696864073099,
     "user": {
      "displayName": "Erika Buoninfante",
      "userId": "14616066065245091588"
     },
     "user_tz": -120
    },
    "id": "X9gSNvv9yyPY"
   },
   "outputs": [],
   "source": [
    "# Define the model\n",
    "HAT2_model = HoeffdingAdaptiveTreeClassifier(seed=42)\n",
    "\n",
    "HAT2_accuracy = {i: [] for i in range(num_experiences)}"
   ]
  },
  {
   "cell_type": "code",
   "execution_count": 119,
   "metadata": {
    "colab": {
     "base_uri": "https://localhost:8080/"
    },
    "executionInfo": {
     "elapsed": 573833,
     "status": "ok",
     "timestamp": 1696864648347,
     "user": {
      "displayName": "Erika Buoninfante",
      "userId": "14616066065245091588"
     },
     "user_tz": -120
    },
    "id": "7PY4DcWzy2kX",
    "outputId": "f739df6a-8571-4496-da43-73e2dd519a09"
   },
   "outputs": [
    {
     "name": "stdout",
     "output_type": "stream",
     "text": [
      "Start training on experience 1\n",
      "0\n",
      "1000\n",
      "2000\n",
      "3000\n",
      "4000\n",
      "5000\n",
      "6000\n",
      "7000\n",
      "Prequential evaluation on current experience test set..\n",
      "[500] Accuracy: 69.80%\n",
      "[1,000] Accuracy: 66.90%\n",
      "[1,500] Accuracy: 67.20%\n",
      "[1,832] Accuracy: 66.70%\n",
      "\tAccuracy R(1,1):  0.6670305676855895\n",
      "End training on experience 1\n",
      "\n",
      "Computing accuracy values on other test sets..\n",
      "\tAccuracy R(1,2):  0.2790841584158416\n",
      "\tAccuracy R(1,3):  0.36462324393358875\n",
      "\tAccuracy R(1,4):  0.22953846153846155\n",
      "\n",
      "Start training on experience 2\n",
      "0\n",
      "1000\n",
      "2000\n",
      "3000\n",
      "4000\n",
      "5000\n",
      "6000\n",
      "Prequential evaluation on current experience test set..\n",
      "[500] Accuracy: 70.20%\n",
      "[1,000] Accuracy: 69.40%\n",
      "[1,500] Accuracy: 70.33%\n",
      "[1,616] Accuracy: 70.85%\n",
      "\tAccuracy R(2,2):  0.7085396039603961\n",
      "End training on experience 2\n",
      "\n",
      "Computing accuracy values on other test sets..\n",
      "\tAccuracy R(2,1):  0.3597161572052402\n",
      "\tAccuracy R(2,3):  0.5280970625798213\n",
      "\tAccuracy R(2,4):  0.5076923076923077\n",
      "\n",
      "Start training on experience 3\n",
      "0\n",
      "1000\n",
      "2000\n",
      "3000\n",
      "4000\n",
      "5000\n",
      "6000\n",
      "Prequential evaluation on current experience test set..\n",
      "[500] Accuracy: 67.80%\n",
      "[1,000] Accuracy: 67.30%\n",
      "[1,500] Accuracy: 68.73%\n",
      "[1,566] Accuracy: 68.45%\n",
      "\tAccuracy R(3,3):  0.6845466155810983\n",
      "End training on experience 3\n",
      "\n",
      "Computing accuracy values on other test sets..\n",
      "\tAccuracy R(3,1):  0.5987991266375546\n",
      "\tAccuracy R(3,2):  0.48824257425742573\n",
      "\tAccuracy R(3,4):  0.6209230769230769\n",
      "\n",
      "Start training on experience 4\n",
      "0\n",
      "1000\n",
      "2000\n",
      "3000\n",
      "4000\n",
      "5000\n",
      "6000\n",
      "Prequential evaluation on current experience test set..\n",
      "[500] Accuracy: 89.80%\n",
      "[1,000] Accuracy: 88.80%\n",
      "[1,500] Accuracy: 90.53%\n",
      "[1,625] Accuracy: 90.28%\n",
      "\tAccuracy R(4,4):  0.9027692307692308\n",
      "End training on experience 4\n",
      "\n",
      "Computing accuracy values on other test sets..\n",
      "\tAccuracy R(4,1):  0.615174672489083\n",
      "\tAccuracy R(4,2):  0.400990099009901\n",
      "\tAccuracy R(4,3):  0.5727969348659003\n",
      "\n"
     ]
    }
   ],
   "source": [
    "# Train the model one experience after the other and do prequential evaluation on test set of current experience\n",
    "for i in range(num_experiences):\n",
    "  print(\"Start training on experience \" + str(i+1))\n",
    "  SML_train(HAT2_model, X_train[i], y_train[i])\n",
    "\n",
    "  print(\"Prequential evaluation on current experience test set..\")\n",
    "  # Create stream from i-th test set\n",
    "  stream = iter_pandas(X=data[i].iloc[:, :-1], y=data[i]['target'])\n",
    "  metric = Accuracy()\n",
    "  progressive_val_score(dataset=stream,\n",
    "                      model=HAT2_model,\n",
    "                      metric=metric,\n",
    "                      print_every=500)\n",
    "\n",
    "  # Store accuracy R(i,i) obtained from prequential eval\n",
    "  HAT2_accuracy[i].insert(i, metric.get())\n",
    "  print(\"\\tAccuracy R(\"+str(i+1)+\",\"+str(i+1)+\"): \", HAT2_accuracy[i][0])\n",
    "  print(\"End training on experience \" + str(i+1) + \"\\n\")\n",
    "\n",
    "  # Compute the accuracy of the i-th model wrt the experience j!=i\n",
    "  print(\"Computing accuracy values on other test sets..\")\n",
    "  for j in range(num_experiences):\n",
    "    if j != i:\n",
    "      y_pred = SML_test(HAT2_model, X_test[j])\n",
    "      HAT2_accuracy[i].insert(j, accuracy_score(y_test[j], y_pred))\n",
    "      print(\"\\tAccuracy R(\"+str(i+1)+\",\"+str(j+1)+\"): \", HAT2_accuracy[i][j])\n",
    "  print()\n"
   ]
  },
  {
   "cell_type": "markdown",
   "metadata": {
    "id": "aJnA8yEZg-Zp"
   },
   "source": [
    "#### Plot performances"
   ]
  },
  {
   "cell_type": "code",
   "execution_count": 120,
   "metadata": {
    "colab": {
     "base_uri": "https://localhost:8080/",
     "height": 420
    },
    "executionInfo": {
     "elapsed": 668,
     "status": "ok",
     "timestamp": 1696864733601,
     "user": {
      "displayName": "Erika Buoninfante",
      "userId": "14616066065245091588"
     },
     "user_tz": -120
    },
    "id": "bcunUMHwhNtZ",
    "outputId": "1d022d25-3163-47f3-8580-5c4ad130e1ff"
   },
   "outputs": [
    {
     "name": "stdout",
     "output_type": "stream",
     "text": [
      "Train e1:  [0.6670305676855895, 0.2790841584158416, 0.36462324393358875, 0.22953846153846155]\n",
      "Train e2:  [0.3597161572052402, 0.7085396039603961, 0.5280970625798213, 0.5076923076923077]\n",
      "Train e3:  [0.5987991266375546, 0.48824257425742573, 0.6845466155810983, 0.6209230769230769]\n",
      "Train e4:  [0.615174672489083, 0.400990099009901, 0.5727969348659003, 0.9027692307692308]\n",
      "\n"
     ]
    },
    {
     "data": {
      "image/png": "[encoded data removed]",
      "text/plain": [
       "<Figure size 600x300 with 1 Axes>"
      ]
     },
     "metadata": {},
     "output_type": "display_data"
    }
   ],
   "source": [
    "for i in range(num_experiences):\n",
    "  print(\"Train e\"+str(i+1)+': ', HAT2_accuracy[i])\n",
    "print()\n",
    "plot_performances('HAT2 performances', HAT2_accuracy)"
   ]
  },
  {
   "cell_type": "markdown",
   "metadata": {
    "id": "qyRIAmOwL2xA"
   },
   "source": [
    "#### Metrics"
   ]
  },
  {
   "cell_type": "code",
   "execution_count": 121,
   "metadata": {
    "executionInfo": {
     "elapsed": 314,
     "status": "ok",
     "timestamp": 1696864738307,
     "user": {
      "displayName": "Erika Buoninfante",
      "userId": "14616066065245091588"
     },
     "user_tz": -120
    },
    "id": "tO6LCI0AL5el"
   },
   "outputs": [],
   "source": [
    "# Average accuracy\n",
    "HAT2_avg_accuracy = average_accuracy(HAT2_accuracy, num_experiences)\n",
    "\n",
    "# A metric\n",
    "HAT2_a_metric = a_metric(HAT2_accuracy, num_experiences)\n",
    "\n",
    "# Forward transfer metric\n",
    "HAT2_ft_metric = ft_metric(HAT2_accuracy, HAT2_random_accuracy, num_experiences)\n",
    "\n",
    "# Backward transfer metric\n",
    "HAT2_bt_metric = bt_metric(HAT2_accuracy, num_experiences)"
   ]
  },
  {
   "cell_type": "code",
   "execution_count": 122,
   "metadata": {
    "colab": {
     "base_uri": "https://localhost:8080/"
    },
    "executionInfo": {
     "elapsed": 647,
     "status": "ok",
     "timestamp": 1696864755021,
     "user": {
      "displayName": "Erika Buoninfante",
      "userId": "14616066065245091588"
     },
     "user_tz": -120
    },
    "id": "VTr9GLvQL4Rd",
    "outputId": "7b083655-c7e0-48e7-8e34-7230ce672983"
   },
   "outputs": [
    {
     "name": "stdout",
     "output_type": "stream",
     "text": [
      "Average accuracy:  0.6229327342835288\n",
      "A metric:  0.5998605582461419\n",
      "Forward transfer metric:  -0.02967783085411398\n",
      "Backward transfer metric:  -0.1570516936207332\n"
     ]
    }
   ],
   "source": [
    "print('Average accuracy: ', HAT2_avg_accuracy)\n",
    "print('A metric: ', HAT2_a_metric)\n",
    "print('Forward transfer metric: ', HAT2_ft_metric)\n",
    "print('Backward transfer metric: ', HAT2_bt_metric)"
   ]
  },
  {
   "cell_type": "markdown",
   "metadata": {
    "id": "VTks4DzZsYP9"
   },
   "source": [
    "## Comparison and comments"
   ]
  },
  {
   "cell_type": "code",
   "execution_count": 123,
   "metadata": {
    "colab": {
     "base_uri": "https://localhost:8080/",
     "height": 707
    },
    "executionInfo": {
     "elapsed": 1518,
     "status": "ok",
     "timestamp": 1696864771436,
     "user": {
      "displayName": "Erika Buoninfante",
      "userId": "14616066065245091588"
     },
     "user_tz": -120
    },
    "id": "p-rHftmj4BFt",
    "outputId": "3f5771e2-e4d0-4f73-bcd4-e402dab95a0e"
   },
   "outputs": [
    {
     "data": {
      "image/png": "[encoded data removed]",
      "text/plain": [
       "<Figure size 1000x700 with 4 Axes>"
      ]
     },
     "metadata": {},
     "output_type": "display_data"
    }
   ],
   "source": [
    "def comparison_plot(titles, accuracies_list, num_rows=2, num_cols=2):\n",
    "  num_models = len(accuracies_list)\n",
    "  num_experiences = max(len(acc) for acc in accuracies_list)\n",
    "\n",
    "  x_labels = [f\"Train e{i}\" for i in range(1, num_experiences + 1)]\n",
    "  x = np.arange(len(x_labels))\n",
    "  width = 0.2\n",
    "\n",
    "  fig, axes = plt.subplots(nrows=num_rows, ncols=num_cols, figsize=(5 * num_cols, 4 * num_rows - 1))\n",
    "\n",
    "  for i in range(num_models):\n",
    "    ax = axes[i // num_cols, i % num_cols] if num_rows > 1 else axes[i % num_cols]\n",
    "    acc_matrix = np.array([accuracies_list[i].get(j, [0, 0, 0, 0]) for j in range(num_experiences)])\n",
    "\n",
    "    ax.bar(x - (3/2)*width, acc_matrix[:, 0], width, label='Test e1')\n",
    "    ax.bar(x - (1/2)*width, acc_matrix[:, 1], width, label='Test e2')\n",
    "    ax.bar(x + (1/2)*width, acc_matrix[:, 2], width, label='Test e3')\n",
    "    ax.bar(x + (3/2)*width, acc_matrix[:, 3], width, label='Test e4')\n",
    "    ax.set_ylim(0, 1)\n",
    "    ax.set_xlabel('Experiences')\n",
    "    ax.set_ylabel('Accuracy')\n",
    "    ax.set_title(titles[i])\n",
    "    ax.set_xticks(x)\n",
    "    ax.set_xticklabels(x_labels)\n",
    "    ax.legend()\n",
    "    ax.legend(loc='upper left', ncol=2)\n",
    "    ax.set_yticks(np.arange(0, 1.1, 0.1))\n",
    "\n",
    "  plt.tight_layout()\n",
    "  plt.show()\n",
    "\n",
    "titles = ['ARF performance', 'HAT performance', 'ARF2 performance', 'HAT2 performance']\n",
    "accuracies_list = [ARF_accuracy, HAT_accuracy, ARF2_accuracy, HAT2_accuracy]\n",
    "comparison_plot(titles, accuracies_list)\n"
   ]
  },
  {
   "cell_type": "markdown",
   "metadata": {
    "id": "cKzKWl7-_kdf"
   },
   "source": [
    "The two Adaptive Random Forest (ARF) models demonstrate consistent behavior with each other during training across different experiences. Similarly, this is observed for the two Hoeffding Adaptive Tree (HAT) models, with minor variations noted during the third and fourth training.\n",
    "\n",
    "In general, all models exhibit the desirable property of **plasticity**. This property is crucial as the selected Streaming Machine Learning (SML) models are designed to effectively adapt to concept drift. In this context, the concept drift arises from the transition between data from one experience to the next.\n",
    "\n",
    "\n",
    "The overall accuracies, while not exceptionally high, could be improved through parameter adjustments or experimentation with alternative models."
   ]
  },
  {
   "cell_type": "markdown",
   "metadata": {
    "id": "7Ht71nYYFL7K"
   },
   "source": [
    "# CL strategies"
   ]
  },
  {
   "cell_type": "code",
   "execution_count": 36,
   "metadata": {
    "colab": {
     "base_uri": "https://localhost:8080/"
    },
    "executionInfo": {
     "elapsed": 6429,
     "status": "ok",
     "timestamp": 1696855559678,
     "user": {
      "displayName": "Erika Buoninfante",
      "userId": "14616066065245091588"
     },
     "user_tz": -120
    },
    "id": "ruHcHs21ATvw",
    "outputId": "7f19d1f7-07fa-4e41-9b9d-e1917bad374f"
   },
   "outputs": [
    {
     "name": "stdout",
     "output_type": "stream",
     "text": [
      "X_train[0]:\t(7325, 800)\n",
      "y_train[0]:\t(7325,)\n",
      "X_test[0]:\t(1832, 800)\n",
      "y_test[0]:\t(1832,)\n",
      "X_train[1]:\t(6461, 800)\n",
      "y_train[1]:\t(6461,)\n",
      "X_test[1]:\t(1616, 800)\n",
      "y_test[1]:\t(1616,)\n",
      "X_train[2]:\t(6264, 800)\n",
      "y_train[2]:\t(6264,)\n",
      "X_test[2]:\t(1566, 800)\n",
      "y_test[2]:\t(1566,)\n",
      "X_train[3]:\t(6497, 800)\n",
      "y_train[3]:\t(6497,)\n",
      "X_test[3]:\t(1625, 800)\n",
      "y_test[3]:\t(1625,)\n"
     ]
    }
   ],
   "source": [
    "num_experiences = 4\n",
    "\n",
    "# Load final dataset\n",
    "X_train = dict()\n",
    "y_train = dict()\n",
    "X_test = dict()\n",
    "y_test = dict()\n",
    "for i in range(num_experiences):\n",
    "  X_train[i] = np.load('final_dataset/X_train' + str(i) + '.npy', allow_pickle=True)\n",
    "  print('X_train['+str(i)+']:\\t' + str(X_train[i].shape))\n",
    "  y_train[i] = np.load('final_dataset/y_train' + str(i) + '.npy', allow_pickle=True)\n",
    "  print('y_train['+str(i)+']:\\t' + str(y_train[i].shape))\n",
    "  X_test[i] = np.load('final_dataset/X_test' + str(i) + '.npy', allow_pickle=True)\n",
    "  print('X_test['+str(i)+']:\\t' + str(X_test[i].shape))\n",
    "  y_test[i] = np.load('final_dataset/y_test' + str(i) + '.npy', allow_pickle=True)\n",
    "  print('y_test['+str(i)+']:\\t' + str(y_test[i].shape))"
   ]
  },
  {
   "cell_type": "code",
   "execution_count": 38,
   "metadata": {
    "executionInfo": {
     "elapsed": 258,
     "status": "ok",
     "timestamp": 1696855584900,
     "user": {
      "displayName": "Erika Buoninfante",
      "userId": "14616066065245091588"
     },
     "user_tz": -120
    },
    "id": "gS8zaVFKDU_z"
   },
   "outputs": [],
   "source": [
    "# Accuracy dict\n",
    "accs_table = {}\n",
    "accs_table_random_model = {}"
   ]
  },
  {
   "cell_type": "markdown",
   "metadata": {
    "id": "dxX6_s-b_u9_"
   },
   "source": [
    "## Base model"
   ]
  },
  {
   "cell_type": "code",
   "execution_count": 39,
   "metadata": {
    "executionInfo": {
     "elapsed": 684,
     "status": "ok",
     "timestamp": 1696855597693,
     "user": {
      "displayName": "Erika Buoninfante",
      "userId": "14616066065245091588"
     },
     "user_tz": -120
    },
    "id": "rYyd897uPSn8"
   },
   "outputs": [],
   "source": [
    "epochs = 2\n",
    "learning_rate = 0.005\n",
    "batch_size = 8\n",
    "input_length = 800\n",
    "opt = Adam(learning_rate=learning_rate, beta_1=0.9, beta_2=0.999)"
   ]
  },
  {
   "cell_type": "markdown",
   "metadata": {
    "id": "PRmY4b0b3EHg"
   },
   "source": [
    "I chose a simple model because adding more Conv1D and Dense layers did not lead to notable improvements in performance."
   ]
  },
  {
   "cell_type": "code",
   "execution_count": 40,
   "metadata": {
    "executionInfo": {
     "elapsed": 491,
     "status": "ok",
     "timestamp": 1696855609163,
     "user": {
      "displayName": "Erika Buoninfante",
      "userId": "14616066065245091588"
     },
     "user_tz": -120
    },
    "id": "3MnpoiyeQjnP"
   },
   "outputs": [],
   "source": [
    "# Model architecture\n",
    "def build_model(input_length):\n",
    "  model = Sequential(name='Sequential')\n",
    "  model.add(Reshape((int(input_length / 20), 20), input_shape=(input_length, ), name='Reshape'))\n",
    "\n",
    "  model.add(Conv1D(8, kernel_size=3, padding='same', activation='relu', name='Conv1D'))\n",
    "  model.add(MaxPooling1D(pool_size=2, strides=2, name='MaxPool1D'))\n",
    "  model.add(Dropout(0.1, name='Dropout'))\n",
    "\n",
    "  model.add(Flatten(name='Flatten'))\n",
    "\n",
    "  model.add(Dense(20, activation='relu', name='Dense'))\n",
    "  model.add(Dense(1, name='Output', activation='sigmoid'))\n",
    "\n",
    "  return model"
   ]
  },
  {
   "cell_type": "markdown",
   "metadata": {
    "id": "x_MEqBq4_XFy"
   },
   "source": [
    "## Naive strategy (Baseline strategy)\n",
    "\n",
    "The Naive strategy is the simple idea of continuing the back-prop process on the new batches/tasks. This is very simple, but at the same time very prone to forgetting."
   ]
  },
  {
   "cell_type": "code",
   "execution_count": 41,
   "metadata": {
    "colab": {
     "base_uri": "https://localhost:8080/"
    },
    "executionInfo": {
     "elapsed": 590,
     "status": "ok",
     "timestamp": 1696855622586,
     "user": {
      "displayName": "Erika Buoninfante",
      "userId": "14616066065245091588"
     },
     "user_tz": -120
    },
    "id": "cgYaAlpoQtPX",
    "outputId": "73f70faa-b254-4172-9e0e-da8e6039ee96"
   },
   "outputs": [
    {
     "name": "stdout",
     "output_type": "stream",
     "text": [
      "Model: \"Sequential\"\n",
      "_________________________________________________________________\n",
      " Layer (type)                Output Shape              Param #   \n",
      "=================================================================\n",
      " Reshape (Reshape)           (None, 40, 20)            0         \n",
      "                                                                 \n",
      " Conv1D (Conv1D)             (None, 40, 8)             488       \n",
      "                                                                 \n",
      " MaxPool1D (MaxPooling1D)    (None, 20, 8)             0         \n",
      "                                                                 \n",
      " Dropout (Dropout)           (None, 20, 8)             0         \n",
      "                                                                 \n",
      " Flatten (Flatten)           (None, 160)               0         \n",
      "                                                                 \n",
      " Dense (Dense)               (None, 20)                3220      \n",
      "                                                                 \n",
      " Output (Dense)              (None, 1)                 21        \n",
      "                                                                 \n",
      "=================================================================\n",
      "Total params: 3729 (14.57 KB)\n",
      "Trainable params: 3729 (14.57 KB)\n",
      "Non-trainable params: 0 (0.00 Byte)\n",
      "_________________________________________________________________\n",
      "None\n"
     ]
    }
   ],
   "source": [
    "model = build_model(input_length)\n",
    "model.compile(loss='binary_crossentropy', optimizer=opt, metrics=['accuracy'])\n",
    "\n",
    "print(model.summary())"
   ]
  },
  {
   "cell_type": "code",
   "execution_count": 42,
   "metadata": {
    "colab": {
     "base_uri": "https://localhost:8080/"
    },
    "executionInfo": {
     "elapsed": 1901,
     "status": "ok",
     "timestamp": 1696855646544,
     "user": {
      "displayName": "Erika Buoninfante",
      "userId": "14616066065245091588"
     },
     "user_tz": -120
    },
    "id": "D_yLm-giLzY8",
    "outputId": "80033bec-2e05-4888-f661-03f0f2c715d7"
   },
   "outputs": [
    {
     "name": "stdout",
     "output_type": "stream",
     "text": [
      "Testing on task:  1\n",
      "229/229 [==============================] - 1s 1ms/step - loss: 0.6918 - accuracy: 0.4334\n",
      "Testing on task:  2\n",
      "202/202 [==============================] - 0s 1ms/step - loss: 0.7077 - accuracy: 0.4325\n",
      "Testing on task:  3\n",
      "196/196 [==============================] - 0s 1ms/step - loss: 0.6937 - accuracy: 0.4368\n",
      "Testing on task:  4\n",
      "204/204 [==============================] - 0s 1ms/step - loss: 0.6941 - accuracy: 0.4418\n"
     ]
    }
   ],
   "source": [
    "# Accuracy of random model\n",
    "accs_table_random_model[\"Naive\"] = []\n",
    "\n",
    "for id_test in range(num_experiences):\n",
    "  print(\"Testing on task: \", id_test+1)\n",
    "  _, acc = model.evaluate(X_test[id_test], y_test[id_test], batch_size=batch_size)\n",
    "  accs_table_random_model[\"Naive\"].append(acc)"
   ]
  },
  {
   "cell_type": "code",
   "execution_count": 43,
   "metadata": {
    "colab": {
     "base_uri": "https://localhost:8080/"
    },
    "executionInfo": {
     "elapsed": 14445,
     "status": "ok",
     "timestamp": 1696855932007,
     "user": {
      "displayName": "Erika Buoninfante",
      "userId": "14616066065245091588"
     },
     "user_tz": -120
    },
    "id": "q9NlvExNNKDD",
    "outputId": "b8c8263c-dd2c-405d-deae-7af299f6c1c9"
   },
   "outputs": [
    {
     "name": "stdout",
     "output_type": "stream",
     "text": [
      "TRAINING on task:  1\n",
      "Epoch 1/2\n",
      "916/916 - 2s - loss: 0.5788 - accuracy: 0.7259 - 2s/epoch - 2ms/step\n",
      "Epoch 2/2\n",
      "916/916 - 1s - loss: 0.5652 - accuracy: 0.7350 - 1s/epoch - 1ms/step\n",
      "\n",
      "Testing on task:  1\n",
      "58/58 [==============================] - 0s 1ms/step - loss: 0.5661 - accuracy: 0.7500\n",
      "Testing on task:  2\n",
      "51/51 [==============================] - 0s 2ms/step - loss: 5.8161 - accuracy: 0.2766\n",
      "Testing on task:  3\n",
      "49/49 [==============================] - 0s 2ms/step - loss: 3.4572 - accuracy: 0.3997\n",
      "Testing on task:  4\n",
      "51/51 [==============================] - 0s 1ms/step - loss: 1.5138 - accuracy: 0.1815\n",
      "Average accuracy:  0.4019729867577553\n",
      "\n",
      "TRAINING on task:  2\n",
      "Epoch 1/2\n",
      "808/808 - 1s - loss: 0.4757 - accuracy: 0.7647 - 1s/epoch - 1ms/step\n",
      "Epoch 2/2\n",
      "808/808 - 1s - loss: 0.2972 - accuracy: 0.8705 - 1s/epoch - 2ms/step\n",
      "\n",
      "Testing on task:  1\n",
      "58/58 [==============================] - 0s 2ms/step - loss: 5.0396 - accuracy: 0.3712\n",
      "Testing on task:  2\n",
      "51/51 [==============================] - 0s 2ms/step - loss: 0.2545 - accuracy: 0.8954\n",
      "Testing on task:  3\n",
      "49/49 [==============================] - 0s 2ms/step - loss: 2.6046 - accuracy: 0.5983\n",
      "Testing on task:  4\n",
      "51/51 [==============================] - 0s 2ms/step - loss: 2.3514 - accuracy: 0.4012\n",
      "Average accuracy:  0.5665425881743431\n",
      "\n",
      "TRAINING on task:  3\n",
      "Epoch 1/2\n",
      "783/783 - 2s - loss: 0.5771 - accuracy: 0.7224 - 2s/epoch - 2ms/step\n",
      "Epoch 2/2\n",
      "783/783 - 1s - loss: 0.5108 - accuracy: 0.7553 - 1s/epoch - 1ms/step\n",
      "\n",
      "Testing on task:  1\n",
      "58/58 [==============================] - 0s 1ms/step - loss: 0.7782 - accuracy: 0.6004\n",
      "Testing on task:  2\n",
      "51/51 [==============================] - 0s 1ms/step - loss: 0.8316 - accuracy: 0.5031\n",
      "Testing on task:  3\n",
      "49/49 [==============================] - 0s 1ms/step - loss: 0.5095 - accuracy: 0.7427\n",
      "Testing on task:  4\n",
      "51/51 [==============================] - 0s 2ms/step - loss: 0.4895 - accuracy: 0.7175\n",
      "Average accuracy:  0.6409314274787903\n",
      "\n",
      "TRAINING on task:  4\n",
      "Epoch 1/2\n",
      "813/813 - 1s - loss: 0.1746 - accuracy: 0.9361 - 1s/epoch - 1ms/step\n",
      "Epoch 2/2\n",
      "813/813 - 1s - loss: 0.0902 - accuracy: 0.9695 - 1s/epoch - 1ms/step\n",
      "\n",
      "Testing on task:  1\n",
      "58/58 [==============================] - 0s 1ms/step - loss: 2.8974 - accuracy: 0.2658\n",
      "Testing on task:  2\n",
      "51/51 [==============================] - 0s 1ms/step - loss: 0.5658 - accuracy: 0.7339\n",
      "Testing on task:  3\n",
      "49/49 [==============================] - 0s 1ms/step - loss: 1.2454 - accuracy: 0.6814\n",
      "Testing on task:  4\n",
      "51/51 [==============================] - 0s 1ms/step - loss: 0.0451 - accuracy: 0.9809\n",
      "Average accuracy:  0.6655043512582779\n",
      "\n"
     ]
    }
   ],
   "source": [
    "# Naive accuracy\n",
    "naive_accs = []\n",
    "accs_table[\"Naive\"] = []\n",
    "\n",
    "# Reset model\n",
    "model = build_model(input_length)\n",
    "model.compile(loss='binary_crossentropy', optimizer=opt, metrics=['accuracy'])\n",
    "\n",
    "# Training on i-th task\n",
    "for id_train in range(num_experiences):\n",
    "  avg_acc = 0\n",
    "  print(\"TRAINING on task: \", id_train+1)\n",
    "  accs_table[\"Naive\"].append([])\n",
    "\n",
    "  model.fit(x=X_train[id_train], y=y_train[id_train], batch_size=batch_size, epochs=epochs, verbose=2)\n",
    "\n",
    "  # Testing on all tasks\n",
    "  print()\n",
    "  for id_test in range(num_experiences):\n",
    "    print(\"Testing on task: \", id_test+1)\n",
    "    _, acc = model.evaluate(X_test[id_test], y_test[id_test])\n",
    "    accs_table[\"Naive\"][-1].append(acc)\n",
    "    avg_acc = avg_acc + acc\n",
    "\n",
    "  naive_accs.append(avg_acc / num_experiences)\n",
    "  print(\"Average accuracy: \", avg_acc / num_experiences)\n",
    "  print()\n"
   ]
  },
  {
   "cell_type": "markdown",
   "metadata": {
    "id": "VMJe69rikVKg"
   },
   "source": [
    "## Rehearsal strategy (Cumulative training)\n",
    "\n",
    "During the i-th experience's training, it trains the model on all the experiences from the first to the i-th"
   ]
  },
  {
   "cell_type": "code",
   "execution_count": 44,
   "metadata": {
    "executionInfo": {
     "elapsed": 230,
     "status": "ok",
     "timestamp": 1696856200013,
     "user": {
      "displayName": "Erika Buoninfante",
      "userId": "14616066065245091588"
     },
     "user_tz": -120
    },
    "id": "XNwly3sMMeIG"
   },
   "outputs": [],
   "source": [
    "# Concatenate and shuffle tasks' data\n",
    "def concat_shuffle_dataset(X_data, y_data, num_exp):\n",
    "  if (num_exp != 0):\n",
    "    # Concatenate data of experiences from the first to the i-th\n",
    "    X_concat = np.concatenate([X_data[i] for i in range(num_exp+1)], axis=0)\n",
    "    y_concat = np.concatenate([y_data[i] for i in range(num_exp+1)], axis=0)\n",
    "\n",
    "    np.random.seed(42)\n",
    "    shuffled_index = np.random.permutation(len(X_concat))\n",
    "    # Shuffle X and y using the shuffled index\n",
    "    X_new = X_concat[shuffled_index]\n",
    "    y_new = y_concat[shuffled_index]\n",
    "\n",
    "    return X_new, y_new\n",
    "\n",
    "  # Handle case of first experience\n",
    "  else:\n",
    "    return X_data[0], y_data[0]\n"
   ]
  },
  {
   "cell_type": "code",
   "execution_count": 45,
   "metadata": {
    "colab": {
     "base_uri": "https://localhost:8080/"
    },
    "executionInfo": {
     "elapsed": 2682,
     "status": "ok",
     "timestamp": 1696856221568,
     "user": {
      "displayName": "Erika Buoninfante",
      "userId": "14616066065245091588"
     },
     "user_tz": -120
    },
    "id": "60JC2xackUM6",
    "outputId": "643e14ba-b6ab-4ea5-d5f2-ebfa184739e5"
   },
   "outputs": [
    {
     "name": "stdout",
     "output_type": "stream",
     "text": [
      "Testing on task:  1\n",
      "229/229 [==============================] - 1s 2ms/step - loss: 0.6905 - accuracy: 0.4039\n",
      "Testing on task:  2\n",
      "202/202 [==============================] - 0s 2ms/step - loss: 0.7201 - accuracy: 0.3998\n",
      "Testing on task:  3\n",
      "196/196 [==============================] - 0s 1ms/step - loss: 0.6999 - accuracy: 0.3997\n",
      "Testing on task:  4\n",
      "204/204 [==============================] - 0s 1ms/step - loss: 0.6957 - accuracy: 0.3982\n"
     ]
    }
   ],
   "source": [
    "# Accuracy of random model\n",
    "accs_table_random_model[\"Rehearsal\"] = []\n",
    "\n",
    "model = build_model(input_length)\n",
    "model.compile(loss='binary_crossentropy', optimizer=opt, metrics=['accuracy'])\n",
    "\n",
    "for id_test in range(num_experiences):\n",
    "  print(\"Testing on task: \", id_test+1)\n",
    "  _, acc = model.evaluate(X_test[id_test], y_test[id_test], batch_size=batch_size)\n",
    "  accs_table_random_model[\"Rehearsal\"].append(acc)"
   ]
  },
  {
   "cell_type": "code",
   "execution_count": 46,
   "metadata": {
    "colab": {
     "base_uri": "https://localhost:8080/"
    },
    "executionInfo": {
     "elapsed": 33149,
     "status": "ok",
     "timestamp": 1696856292925,
     "user": {
      "displayName": "Erika Buoninfante",
      "userId": "14616066065245091588"
     },
     "user_tz": -120
    },
    "id": "d6petUgKGk9y",
    "outputId": "976c67a1-3506-4913-9053-2806f36d22a2"
   },
   "outputs": [
    {
     "name": "stdout",
     "output_type": "stream",
     "text": [
      "TRAINING on task:  1\n",
      "Dataset size:  (7325, 800) (7325,)\n",
      "Epoch 1/2\n",
      "916/916 - 2s - loss: 0.5776 - accuracy: 0.7235 - 2s/epoch - 2ms/step\n",
      "Epoch 2/2\n",
      "916/916 - 1s - loss: 0.5570 - accuracy: 0.7342 - 1s/epoch - 1ms/step\n",
      "\n",
      "Testing on task:  1\n",
      "58/58 [==============================] - 0s 1ms/step - loss: 0.5402 - accuracy: 0.7522\n",
      "Testing on task:  2\n",
      "51/51 [==============================] - 0s 2ms/step - loss: 4.8100 - accuracy: 0.2834\n",
      "Testing on task:  3\n",
      "49/49 [==============================] - 0s 2ms/step - loss: 3.6579 - accuracy: 0.3997\n",
      "Testing on task:  4\n",
      "51/51 [==============================] - 0s 1ms/step - loss: 1.9804 - accuracy: 0.1495\n",
      "Average accuracy:  0.3962205648422241\n",
      "\n",
      "TRAINING on task:  2\n",
      "Dataset size:  (13786, 800) (13786,)\n",
      "Epoch 1/2\n",
      "1724/1724 - 2s - loss: 0.5952 - accuracy: 0.6832 - 2s/epoch - 1ms/step\n",
      "Epoch 2/2\n",
      "1724/1724 - 3s - loss: 0.5067 - accuracy: 0.7589 - 3s/epoch - 2ms/step\n",
      "\n",
      "Testing on task:  1\n",
      "58/58 [==============================] - 0s 2ms/step - loss: 0.5565 - accuracy: 0.7407\n",
      "Testing on task:  2\n",
      "51/51 [==============================] - 0s 2ms/step - loss: 0.3950 - accuracy: 0.8057\n",
      "Testing on task:  3\n",
      "49/49 [==============================] - 0s 2ms/step - loss: 1.8031 - accuracy: 0.4821\n",
      "Testing on task:  4\n",
      "51/51 [==============================] - 0s 2ms/step - loss: 1.4968 - accuracy: 0.1754\n",
      "Average accuracy:  0.5509795621037483\n",
      "\n",
      "TRAINING on task:  3\n",
      "Dataset size:  (20050, 800) (20050,)\n",
      "Epoch 1/2\n",
      "2507/2507 - 3s - loss: 0.5379 - accuracy: 0.7477 - 3s/epoch - 1ms/step\n",
      "Epoch 2/2\n",
      "2507/2507 - 3s - loss: 0.5176 - accuracy: 0.7547 - 3s/epoch - 1ms/step\n",
      "\n",
      "Testing on task:  1\n",
      "58/58 [==============================] - 0s 2ms/step - loss: 0.5646 - accuracy: 0.7254\n",
      "Testing on task:  2\n",
      "51/51 [==============================] - 0s 2ms/step - loss: 0.3888 - accuracy: 0.8385\n",
      "Testing on task:  3\n",
      "49/49 [==============================] - 0s 2ms/step - loss: 0.5542 - accuracy: 0.7337\n",
      "Testing on task:  4\n",
      "51/51 [==============================] - 0s 2ms/step - loss: 1.1156 - accuracy: 0.2123\n",
      "Average accuracy:  0.6274877488613129\n",
      "\n",
      "TRAINING on task:  4\n",
      "Dataset size:  (26547, 800) (26547,)\n",
      "Epoch 1/2\n",
      "3319/3319 - 5s - loss: 0.5369 - accuracy: 0.7364 - 5s/epoch - 1ms/step\n",
      "Epoch 2/2\n",
      "3319/3319 - 6s - loss: 0.5155 - accuracy: 0.7608 - 6s/epoch - 2ms/step\n",
      "\n",
      "Testing on task:  1\n",
      "58/58 [==============================] - 0s 1ms/step - loss: 0.7630 - accuracy: 0.5819\n",
      "Testing on task:  2\n",
      "51/51 [==============================] - 0s 1ms/step - loss: 0.3644 - accuracy: 0.8397\n",
      "Testing on task:  3\n",
      "49/49 [==============================] - 0s 1ms/step - loss: 0.7076 - accuracy: 0.7235\n",
      "Testing on task:  4\n",
      "51/51 [==============================] - 0s 1ms/step - loss: 0.3455 - accuracy: 0.9323\n",
      "Average accuracy:  0.7693531215190887\n",
      "\n"
     ]
    }
   ],
   "source": [
    "# Rehearsal accuracy\n",
    "rehe_accs = []\n",
    "accs_table[\"Rehearsal\"] = []\n",
    "\n",
    "# Reset model\n",
    "model = build_model(input_length)\n",
    "model.compile(loss='binary_crossentropy', optimizer=opt, metrics=['accuracy'])\n",
    "\n",
    "# Training on i-th task using data from 0 to i-th experience\n",
    "for id_train in range(num_experiences):\n",
    "  avg_acc = 0\n",
    "  print(\"TRAINING on task: \", id_train+1)\n",
    "  accs_table[\"Rehearsal\"].append([])\n",
    "\n",
    "  X, y = concat_shuffle_dataset(X_train, y_train, id_train)\n",
    "  print(\"Dataset size: \", X.shape, y.shape)\n",
    "  model.fit(x=X, y=y, batch_size=batch_size, epochs=epochs, verbose=2)\n",
    "\n",
    "  # Testing on all tasks\n",
    "  print()\n",
    "  for id_test in range(num_experiences):\n",
    "    print(\"Testing on task: \", id_test+1)\n",
    "    _, acc = model.evaluate(X_test[id_test], y_test[id_test])\n",
    "    accs_table[\"Rehearsal\"][-1].append(acc)\n",
    "    avg_acc = avg_acc + acc\n",
    "\n",
    "  rehe_accs.append(avg_acc / num_experiences)\n",
    "  print(\"Average accuracy: \", avg_acc / num_experiences)\n",
    "  print()\n"
   ]
  },
  {
   "cell_type": "markdown",
   "metadata": {
    "id": "0G1dUX1YIXUf"
   },
   "source": [
    "## Replay strategy (Random Replay)\n",
    "\n",
    "It uses a fixed-size Random Memory (RM) to store a subset of random previous experiences' data points. During the training on the i-th experience, it trains the model on the i-th training set shuffled with a fixed-size Random Memory (RM). RM contains a random subset of the data points of the previous experiences' training sets. After the training, it randomly substitutes some data points with a random subset of the current experience's training set in RM. This way, RM will be updated for the next experience and maintain an approximately equal number of examples for each experience.\n"
   ]
  },
  {
   "cell_type": "code",
   "execution_count": 53,
   "metadata": {
    "colab": {
     "base_uri": "https://localhost:8080/"
    },
    "executionInfo": {
     "elapsed": 2514,
     "status": "ok",
     "timestamp": 1696856419579,
     "user": {
      "displayName": "Erika Buoninfante",
      "userId": "14616066065245091588"
     },
     "user_tz": -120
    },
    "id": "SKfI4e4lIfHW",
    "outputId": "4b5cc1f4-b35f-4c01-f38f-b62ee9263887"
   },
   "outputs": [
    {
     "name": "stdout",
     "output_type": "stream",
     "text": [
      "Testing on task:  1\n",
      "229/229 [==============================] - 1s 2ms/step - loss: 0.6929 - accuracy: 0.4509\n",
      "Testing on task:  2\n",
      "202/202 [==============================] - 0s 2ms/step - loss: 0.7002 - accuracy: 0.4802\n",
      "Testing on task:  3\n",
      "196/196 [==============================] - 0s 1ms/step - loss: 0.6895 - accuracy: 0.4808\n",
      "Testing on task:  4\n",
      "204/204 [==============================] - 0s 1ms/step - loss: 0.6950 - accuracy: 0.5120\n"
     ]
    }
   ],
   "source": [
    "# Accuracy of random model\n",
    "accs_table_random_model[\"Replay1\"] = []\n",
    "accs_table_random_model[\"Replay2\"] = []\n",
    "\n",
    "model = build_model(input_length)\n",
    "model.compile(loss='binary_crossentropy', optimizer=opt, metrics=['accuracy'])\n",
    "\n",
    "for id_test in range(num_experiences):\n",
    "  print(\"Testing on task: \", id_test+1)\n",
    "  _, acc = model.evaluate(X_test[id_test], y_test[id_test], batch_size=batch_size)\n",
    "  accs_table_random_model[\"Replay1\"].append(acc)\n",
    "  accs_table_random_model[\"Replay2\"].append(acc)"
   ]
  },
  {
   "cell_type": "code",
   "execution_count": 55,
   "metadata": {
    "colab": {
     "base_uri": "https://localhost:8080/"
    },
    "executionInfo": {
     "elapsed": 293,
     "status": "ok",
     "timestamp": 1696857346472,
     "user": {
      "displayName": "Erika Buoninfante",
      "userId": "14616066065245091588"
     },
     "user_tz": -120
    },
    "id": "_mksKV4f5RoW",
    "outputId": "ec986217-3ac4-40df-a1d8-0f95735e3e17"
   },
   "outputs": [
    {
     "data": {
      "text/plain": [
       "(7325, 6461, 6264, 6497)"
      ]
     },
     "execution_count": 55,
     "metadata": {},
     "output_type": "execute_result"
    }
   ],
   "source": [
    "len(X_train[0]), len(X_train[1]), len(X_train[2]), len(X_train[3])"
   ]
  },
  {
   "cell_type": "code",
   "execution_count": 56,
   "metadata": {
    "colab": {
     "base_uri": "https://localhost:8080/"
    },
    "executionInfo": {
     "elapsed": 628,
     "status": "ok",
     "timestamp": 1696857356029,
     "user": {
      "displayName": "Erika Buoninfante",
      "userId": "14616066065245091588"
     },
     "user_tz": -120
    },
    "id": "pXpS3dumP27g",
    "outputId": "6927c33d-eec4-4b53-8e87-90c643695293"
   },
   "outputs": [
    {
     "data": {
      "text/plain": [
       "(1252, 1879)"
      ]
     },
     "execution_count": 56,
     "metadata": {},
     "output_type": "execute_result"
    }
   ],
   "source": [
    "# Sizes of Random Memory - 20% and 30% of the smallest dataset\n",
    "rm_size1 = int((20/100) * len(X_train[2]))\n",
    "rm_size2 = int((30/100) * len(X_train[2]))\n",
    "\n",
    "rm_size1, rm_size2"
   ]
  },
  {
   "cell_type": "code",
   "execution_count": 57,
   "metadata": {
    "executionInfo": {
     "elapsed": 250,
     "status": "ok",
     "timestamp": 1696857390528,
     "user": {
      "displayName": "Erika Buoninfante",
      "userId": "14616066065245091588"
     },
     "user_tz": -120
    },
    "id": "I0vjcOHePBRA"
   },
   "outputs": [],
   "source": [
    "# Function to compute the Random Memory\n",
    "def compute_rm(X_train, y_train, rm_size, id_task, X_rm_old, y_rm_old):\n",
    "  np.random.seed(42)\n",
    "\n",
    "  h = int(rm_size / (id_task+1))\n",
    "  # Generate h random indices for sampling\n",
    "  random_indices = np.random.choice(rm_size, h, replace=False)\n",
    "\n",
    "  # Shuffle train dataset otherwise random indices will consider only the first rm_size elements of X_train and y_train\n",
    "  shuffled_index = np.random.permutation(len(X_train[id_task]))\n",
    "  X_shuffled = X_train[id_task][shuffled_index]\n",
    "  y_shuffled = y_train[id_task][shuffled_index]\n",
    "\n",
    "  # Handle initial case of empty RM - initialize with random numbers\n",
    "  if X_rm_old.size == 0:\n",
    "    X_rm_old = np.empty((rm_size, input_length))\n",
    "    y_rm_old = np.empty((rm_size, ))\n",
    "\n",
    "  # Substitute h values of old RM with h values of current training set\n",
    "  X_rm_new = X_rm_old\n",
    "  y_rm_new = y_rm_old\n",
    "  for idx in random_indices:\n",
    "    X_rm_new[idx] = X_shuffled[idx]\n",
    "    y_rm_new[idx] = y_shuffled[idx]\n",
    "\n",
    "  return X_rm_new, y_rm_new\n",
    "\n",
    "\n",
    "# Concatenate and shuffle training data with Random Memory\n",
    "def concat_shuffle_rm(X_data, y_data, X_rm_data, y_rm_data):\n",
    "  # Handle case of first experience\n",
    "  if X_rm_data.size == 0:\n",
    "    return X_data, y_data\n",
    "\n",
    "  X_concat = np.concatenate((X_data, X_rm_data), axis=0)\n",
    "  y_concat = np.concatenate((y_data, y_rm_data), axis=0)\n",
    "\n",
    "  np.random.seed(42)\n",
    "  shuffled_index = np.random.permutation(len(X_concat))\n",
    "  # Shuffle X and y using the shuffled index\n",
    "  X_new = X_concat[shuffled_index]\n",
    "  y_new = y_concat[shuffled_index]\n",
    "\n",
    "  return X_new, y_new\n"
   ]
  },
  {
   "cell_type": "code",
   "execution_count": 58,
   "metadata": {
    "colab": {
     "base_uri": "https://localhost:8080/"
    },
    "executionInfo": {
     "elapsed": 21203,
     "status": "ok",
     "timestamp": 1696857422694,
     "user": {
      "displayName": "Erika Buoninfante",
      "userId": "14616066065245091588"
     },
     "user_tz": -120
    },
    "id": "SiYMtP0sItmv",
    "outputId": "e9ba6a40-bd29-48c0-9458-3e125e9422a0"
   },
   "outputs": [
    {
     "name": "stdout",
     "output_type": "stream",
     "text": [
      "TRAINING on task:  1\n",
      "Dataset size:  (7325, 800) (7325,)\n",
      "Epoch 1/2\n",
      "916/916 - 2s - loss: 0.5750 - accuracy: 0.7302 - 2s/epoch - 3ms/step\n",
      "Epoch 2/2\n",
      "916/916 - 2s - loss: 0.5640 - accuracy: 0.7367 - 2s/epoch - 2ms/step\n",
      "\n",
      "Testing on task:  1\n",
      "58/58 [==============================] - 0s 2ms/step - loss: 0.5611 - accuracy: 0.7484\n",
      "Testing on task:  2\n",
      "51/51 [==============================] - 0s 2ms/step - loss: 5.2333 - accuracy: 0.2797\n",
      "Testing on task:  3\n",
      "49/49 [==============================] - 0s 1ms/step - loss: 3.2639 - accuracy: 0.3997\n",
      "Testing on task:  4\n",
      "51/51 [==============================] - 0s 2ms/step - loss: 1.6692 - accuracy: 0.1803\n",
      "Average accuracy:  0.4020294100046158\n",
      "\n",
      "TRAINING on task:  2\n",
      "Dataset size:  (7713, 800) (7713,)\n",
      "Epoch 1/2\n",
      "965/965 - 2s - loss: 0.5503 - accuracy: 0.7105 - 2s/epoch - 2ms/step\n",
      "Epoch 2/2\n",
      "965/965 - 1s - loss: 0.4309 - accuracy: 0.7946 - 1s/epoch - 1ms/step\n",
      "\n",
      "Testing on task:  1\n",
      "58/58 [==============================] - 0s 1ms/step - loss: 0.8766 - accuracy: 0.3346\n",
      "Testing on task:  2\n",
      "51/51 [==============================] - 0s 2ms/step - loss: 0.3136 - accuracy: 0.8967\n",
      "Testing on task:  3\n",
      "49/49 [==============================] - 0s 2ms/step - loss: 2.0790 - accuracy: 0.6003\n",
      "Testing on task:  4\n",
      "51/51 [==============================] - 0s 1ms/step - loss: 0.6729 - accuracy: 0.5858\n",
      "Average accuracy:  0.6043417379260063\n",
      "\n",
      "TRAINING on task:  3\n",
      "Dataset size:  (7516, 800) (7516,)\n",
      "Epoch 1/2\n",
      "940/940 - 1s - loss: 0.5725 - accuracy: 0.7074 - 1s/epoch - 1ms/step\n",
      "Epoch 2/2\n",
      "940/940 - 1s - loss: 0.5307 - accuracy: 0.7330 - 1s/epoch - 1ms/step\n",
      "\n",
      "Testing on task:  1\n",
      "58/58 [==============================] - 0s 2ms/step - loss: 0.7347 - accuracy: 0.6037\n",
      "Testing on task:  2\n",
      "51/51 [==============================] - 0s 2ms/step - loss: 0.5935 - accuracy: 0.6170\n",
      "Testing on task:  3\n",
      "49/49 [==============================] - 0s 3ms/step - loss: 0.4894 - accuracy: 0.7580\n",
      "Testing on task:  4\n",
      "51/51 [==============================] - 0s 1ms/step - loss: 0.4803 - accuracy: 0.7163\n",
      "Average accuracy:  0.6737392693758011\n",
      "\n",
      "TRAINING on task:  4\n",
      "Dataset size:  (7749, 800) (7749,)\n",
      "Epoch 1/2\n",
      "969/969 - 1s - loss: 0.2796 - accuracy: 0.8995 - 1s/epoch - 1ms/step\n",
      "Epoch 2/2\n",
      "969/969 - 1s - loss: 0.2412 - accuracy: 0.9128 - 1s/epoch - 1ms/step\n",
      "\n",
      "Testing on task:  1\n",
      "58/58 [==============================] - 0s 1ms/step - loss: 1.2795 - accuracy: 0.3614\n",
      "Testing on task:  2\n",
      "51/51 [==============================] - 0s 1ms/step - loss: 0.7822 - accuracy: 0.6064\n",
      "Testing on task:  3\n",
      "49/49 [==============================] - 0s 1ms/step - loss: 0.5110 - accuracy: 0.7682\n",
      "Testing on task:  4\n",
      "51/51 [==============================] - 0s 1ms/step - loss: 0.1176 - accuracy: 0.9822\n",
      "Average accuracy:  0.6795356050133705\n",
      "\n"
     ]
    }
   ],
   "source": [
    "# Replay accuracy using SIZE rm_size1\n",
    "repl1_accs = []\n",
    "accs_table[\"Replay1\"] = []\n",
    "\n",
    "# Initialize Random Memory\n",
    "X_rm = np.array([])\n",
    "y_rm = np.array([])\n",
    "\n",
    "# Reset model\n",
    "model = build_model(input_length)\n",
    "model.compile(loss='binary_crossentropy', optimizer=opt, metrics=['accuracy'])\n",
    "\n",
    "# Training on i-th task using data from i-th experience shuffled with RM\n",
    "for id_train in range(num_experiences):\n",
    "  avg_acc = 0\n",
    "  print(\"TRAINING on task: \", id_train+1)\n",
    "  accs_table[\"Replay1\"].append([])\n",
    "\n",
    "  X, y = concat_shuffle_rm(X_train[id_train], y_train[id_train], X_rm, y_rm)\n",
    "  print(\"Dataset size: \", X.shape, y.shape)\n",
    "  model.fit(x=X, y=y, batch_size=batch_size, epochs=epochs, verbose=2)\n",
    "\n",
    "  # Update RM after training on i-th experience\n",
    "  X_rm, y_rm = compute_rm(X_train, y_train, rm_size1, id_train, X_rm, y_rm)\n",
    "\n",
    "  # Testing on all tasks\n",
    "  print()\n",
    "  for id_test in range(num_experiences):\n",
    "    print(\"Testing on task: \", id_test+1)\n",
    "    _, acc = model.evaluate(X_test[id_test], y_test[id_test])\n",
    "    accs_table[\"Replay1\"][-1].append(acc)\n",
    "    avg_acc = avg_acc + acc\n",
    "\n",
    "  repl1_accs.append(avg_acc / num_experiences)\n",
    "  print(\"Average accuracy: \", avg_acc / num_experiences)\n",
    "  print()"
   ]
  },
  {
   "cell_type": "code",
   "execution_count": 60,
   "metadata": {
    "colab": {
     "base_uri": "https://localhost:8080/"
    },
    "executionInfo": {
     "elapsed": 23218,
     "status": "ok",
     "timestamp": 1696857519911,
     "user": {
      "displayName": "Erika Buoninfante",
      "userId": "14616066065245091588"
     },
     "user_tz": -120
    },
    "id": "8gRqmp4V1lmj",
    "outputId": "8f4c0d73-f7fd-4cff-cbb2-42bcc6e0231b"
   },
   "outputs": [
    {
     "name": "stdout",
     "output_type": "stream",
     "text": [
      "TRAINING on task:  1\n",
      "Dataset size:  (7325, 800) (7325,)\n",
      "Epoch 1/2\n",
      "916/916 - 2s - loss: 0.5827 - accuracy: 0.7241 - 2s/epoch - 2ms/step\n",
      "Epoch 2/2\n",
      "916/916 - 1s - loss: 0.5528 - accuracy: 0.7375 - 1s/epoch - 1ms/step\n",
      "\n",
      "Testing on task:  1\n",
      "58/58 [==============================] - 0s 2ms/step - loss: 0.5471 - accuracy: 0.7418\n",
      "Testing on task:  2\n",
      "51/51 [==============================] - 0s 2ms/step - loss: 2.6142 - accuracy: 0.2537\n",
      "Testing on task:  3\n",
      "49/49 [==============================] - 0s 2ms/step - loss: 2.7523 - accuracy: 0.3953\n",
      "Testing on task:  4\n",
      "51/51 [==============================] - 0s 2ms/step - loss: 1.6618 - accuracy: 0.1723\n",
      "Average accuracy:  0.390776839107275\n",
      "\n",
      "TRAINING on task:  2\n",
      "Dataset size:  (8340, 800) (8340,)\n",
      "Epoch 1/2\n",
      "1043/1043 - 2s - loss: 0.5559 - accuracy: 0.6921 - 2s/epoch - 2ms/step\n",
      "Epoch 2/2\n",
      "1043/1043 - 1s - loss: 0.4329 - accuracy: 0.7761 - 1s/epoch - 1ms/step\n",
      "\n",
      "Testing on task:  1\n",
      "58/58 [==============================] - 0s 1ms/step - loss: 0.7201 - accuracy: 0.6004\n",
      "Testing on task:  2\n",
      "51/51 [==============================] - 0s 1ms/step - loss: 0.3242 - accuracy: 0.8713\n",
      "Testing on task:  3\n",
      "49/49 [==============================] - 0s 1ms/step - loss: 0.7861 - accuracy: 0.6801\n",
      "Testing on task:  4\n",
      "51/51 [==============================] - 0s 2ms/step - loss: 0.8582 - accuracy: 0.3403\n",
      "Average accuracy:  0.6230270192027092\n",
      "\n",
      "TRAINING on task:  3\n",
      "Dataset size:  (8143, 800) (8143,)\n",
      "Epoch 1/2\n",
      "1018/1018 - 1s - loss: 0.5379 - accuracy: 0.7387 - 1s/epoch - 1ms/step\n",
      "Epoch 2/2\n",
      "1018/1018 - 1s - loss: 0.5228 - accuracy: 0.7397 - 1s/epoch - 1ms/step\n",
      "\n",
      "Testing on task:  1\n",
      "58/58 [==============================] - 0s 2ms/step - loss: 0.7075 - accuracy: 0.6097\n",
      "Testing on task:  2\n",
      "51/51 [==============================] - 0s 2ms/step - loss: 0.5105 - accuracy: 0.7308\n",
      "Testing on task:  3\n",
      "49/49 [==============================] - 0s 2ms/step - loss: 0.4794 - accuracy: 0.7701\n",
      "Testing on task:  4\n",
      "51/51 [==============================] - 0s 2ms/step - loss: 0.4905 - accuracy: 0.7126\n",
      "Average accuracy:  0.7058158367872238\n",
      "\n",
      "TRAINING on task:  4\n",
      "Dataset size:  (8376, 800) (8376,)\n",
      "Epoch 1/2\n",
      "1047/1047 - 2s - loss: 0.3055 - accuracy: 0.8908 - 2s/epoch - 2ms/step\n",
      "Epoch 2/2\n",
      "1047/1047 - 2s - loss: 0.2799 - accuracy: 0.8947 - 2s/epoch - 1ms/step\n",
      "\n",
      "Testing on task:  1\n",
      "58/58 [==============================] - 0s 1ms/step - loss: 1.4607 - accuracy: 0.3739\n",
      "Testing on task:  2\n",
      "51/51 [==============================] - 0s 2ms/step - loss: 0.5529 - accuracy: 0.7017\n",
      "Testing on task:  3\n",
      "49/49 [==============================] - 0s 1ms/step - loss: 0.5128 - accuracy: 0.7701\n",
      "Testing on task:  4\n",
      "51/51 [==============================] - 0s 1ms/step - loss: 0.0918 - accuracy: 0.9809\n",
      "Average accuracy:  0.7066697552800179\n",
      "\n"
     ]
    }
   ],
   "source": [
    "# Replay accuracy using SIZE rm_size2\n",
    "repl2_accs = []\n",
    "accs_table[\"Replay2\"] = []\n",
    "\n",
    "# Random Memory\n",
    "X_rm = np.array([])\n",
    "y_rm = np.array([])\n",
    "\n",
    "# Reset model\n",
    "model = build_model(input_length)\n",
    "model.compile(loss='binary_crossentropy', optimizer=opt, metrics=['accuracy'])\n",
    "\n",
    "# Training on i-th task using data from i-th experience shuffled with RM\n",
    "for id_train in range(num_experiences):\n",
    "  avg_acc = 0\n",
    "  print(\"TRAINING on task: \", id_train+1)\n",
    "  accs_table[\"Replay2\"].append([])\n",
    "\n",
    "  X, y = concat_shuffle_rm(X_train[id_train], y_train[id_train], X_rm, y_rm)\n",
    "  print(\"Dataset size: \", X.shape, y.shape)\n",
    "  model.fit(x=X, y=y, batch_size=batch_size, epochs=epochs, verbose=2)\n",
    "\n",
    "  # Update RM after training on i-th experience\n",
    "  X_rm, y_rm = compute_rm(X_train, y_train, rm_size2, id_train, X_rm, y_rm)\n",
    "\n",
    "  # Testing on all tasks\n",
    "  print()\n",
    "  for id_test in range(num_experiences):\n",
    "    print(\"Testing on task: \", id_test+1)\n",
    "    _, acc = model.evaluate(X_test[id_test], y_test[id_test])\n",
    "    accs_table[\"Replay2\"][-1].append(acc)\n",
    "    avg_acc = avg_acc + acc\n",
    "\n",
    "  repl2_accs.append(avg_acc / num_experiences)\n",
    "  print(\"Average accuracy: \", avg_acc / num_experiences)\n",
    "  print()"
   ]
  },
  {
   "cell_type": "markdown",
   "metadata": {
    "id": "XeVzWbxjPXG-"
   },
   "source": [
    "## Elastic Weights Consolidation strategy (Regularization)\n",
    "It is based on the computation of the importance of each weight (fisher information) and a squared regularization loss, penalizing changes in the most important weights for the previous tasks.\n",
    "\n",
    "It has the great advantage of **not using any** of the previous tasks data!"
   ]
  },
  {
   "cell_type": "code",
   "execution_count": 61,
   "metadata": {
    "colab": {
     "base_uri": "https://localhost:8080/"
    },
    "executionInfo": {
     "elapsed": 2194,
     "status": "ok",
     "timestamp": 1696858576119,
     "user": {
      "displayName": "Erika Buoninfante",
      "userId": "14616066065245091588"
     },
     "user_tz": -120
    },
    "id": "dPCtzPbMPmN9",
    "outputId": "c1b8881c-6a8d-4383-e48e-005720fd7735"
   },
   "outputs": [
    {
     "name": "stdout",
     "output_type": "stream",
     "text": [
      "Testing on task:  1\n",
      "229/229 [==============================] - 0s 1ms/step - loss: 0.6927 - accuracy: 0.4929\n",
      "Testing on task:  2\n",
      "202/202 [==============================] - 0s 1ms/step - loss: 0.6968 - accuracy: 0.4629\n",
      "Testing on task:  3\n",
      "196/196 [==============================] - 0s 1ms/step - loss: 0.6934 - accuracy: 0.4725\n",
      "Testing on task:  4\n",
      "204/204 [==============================] - 0s 1ms/step - loss: 0.6937 - accuracy: 0.4954\n"
     ]
    }
   ],
   "source": [
    "# Accuracy of random model\n",
    "accs_table_random_model[\"EWC\"] = []\n",
    "model = build_model(input_length)\n",
    "model.compile(loss='binary_crossentropy', optimizer=opt, metrics=['accuracy'])\n",
    "\n",
    "for id_test in range(num_experiences):\n",
    "  print(\"Testing on task: \", id_test+1)\n",
    "  _, acc = model.evaluate(X_test[id_test], y_test[id_test], batch_size=batch_size)\n",
    "  accs_table_random_model[\"EWC\"].append(acc)"
   ]
  },
  {
   "cell_type": "markdown",
   "metadata": {
    "id": "yv-r6txDSRLt"
   },
   "source": [
    "We need to define an additional function to compute the fisher information for each weight at the end of each task."
   ]
  },
  {
   "cell_type": "code",
   "execution_count": 124,
   "metadata": {
    "executionInfo": {
     "elapsed": 305,
     "status": "ok",
     "timestamp": 1696864877331,
     "user": {
      "displayName": "Erika Buoninfante",
      "userId": "14616066065245091588"
     },
     "user_tz": -120
    },
    "id": "JzJHc80-SxCc"
   },
   "outputs": [],
   "source": [
    "fisher_dict = {}\n",
    "optpar_dict = {}\n",
    "ewc_lambda = 0.5"
   ]
  },
  {
   "cell_type": "code",
   "execution_count": 125,
   "metadata": {
    "executionInfo": {
     "elapsed": 299,
     "status": "ok",
     "timestamp": 1696864883828,
     "user": {
      "displayName": "Erika Buoninfante",
      "userId": "14616066065245091588"
     },
     "user_tz": -120
    },
    "id": "gIeO1TGNMT5g"
   },
   "outputs": [],
   "source": [
    "def on_task_update(task_id, x_mem, y_mem, batch_size):\n",
    "  optimizer = keras.optimizers.Adam(learning_rate=learning_rate, beta_1=0.9, beta_2=0.999)\n",
    "\n",
    "  # Iterate through the dataset in batches and accumulate gradients\n",
    "  for start in range(0, len(y_mem)-1, batch_size):\n",
    "    end = start + batch_size\n",
    "    x, y = x_mem[start:end], y_mem[start:end]\n",
    "    y = y.astype(np.float32)\n",
    "\n",
    "    with tf.GradientTape() as tape:\n",
    "      output = model(x)\n",
    "      loss = keras.losses.binary_crossentropy(y, output)\n",
    "      loss = tf.reduce_mean(loss)\n",
    "\n",
    "    # Compute gradients\n",
    "    gradients = tape.gradient(loss, model.trainable_variables)\n",
    "    optimizer.apply_gradients(zip(gradients, model.trainable_variables))\n",
    "    # Store the gradients for later use\n",
    "    gradients_dict = {weight.name: grad for weight, grad in zip(model.trainable_variables, gradients)}\n",
    "\n",
    "  fisher_dict[task_id] = {}\n",
    "  optpar_dict[task_id] = {}\n",
    "\n",
    "  # Gradients accumulated can be used to calculate fisher\n",
    "  for layer in model.layers:\n",
    "    for weight in layer.trainable_weights:\n",
    "      name = weight.name\n",
    "      optpar_dict[task_id][name] = weight.numpy()\n",
    "      gradient = gradients_dict[name]\n",
    "      fisher_dict[task_id][name] = np.square(gradient.numpy())"
   ]
  },
  {
   "cell_type": "markdown",
   "metadata": {
    "id": "xtNafR9WQyu4"
   },
   "source": [
    "It is necessary to implement a custom train function in order to include the regularization term."
   ]
  },
  {
   "cell_type": "code",
   "execution_count": 126,
   "metadata": {
    "executionInfo": {
     "elapsed": 231,
     "status": "ok",
     "timestamp": 1696864886333,
     "user": {
      "displayName": "Erika Buoninfante",
      "userId": "14616066065245091588"
     },
     "user_tz": -120
    },
    "id": "BeB3yVlUMz6O"
   },
   "outputs": [],
   "source": [
    "# Custom train function\n",
    "def train_ewc(model, task_id, x_train, y_train, optimizer, epoch, batch_size, ewc_lambda):\n",
    "  for start in range(0, len(y_train)-1, batch_size):\n",
    "    end = start + batch_size\n",
    "    x, y = x_train[start:end], y_train[start:end]\n",
    "\n",
    "    with tf.GradientTape() as tape:\n",
    "      output = model(x)\n",
    "      loss = tfk.losses.binary_crossentropy(y, output)\n",
    "      loss = tf.reduce_mean(loss)\n",
    "\n",
    "      for prev_task_id in range(task_id):\n",
    "        for layer in model.layers:\n",
    "          for weight in layer.trainable_weights:\n",
    "            fisher = fisher_dict[prev_task_id][weight.name]\n",
    "            optpar = optpar_dict[prev_task_id][weight.name]\n",
    "            loss += tf.reduce_sum(fisher * tf.square(optpar - weight)) * ewc_lambda\n",
    "\n",
    "    gradients = tape.gradient(loss, model.trainable_variables)\n",
    "    optimizer.apply_gradients(zip(gradients, model.trainable_variables))\n",
    "\n",
    "  print('Train Epoch: {} \\tLoss: {:.6f}'.format(epoch, loss.numpy()))\n",
    "\n",
    "\n",
    "# Test function\n",
    "def test(model, x_test, y_test, batch_size):\n",
    "  test_loss = 0\n",
    "  correct = 0\n",
    "  num_batches = len(y_test) // batch_size\n",
    "\n",
    "  for i in range(num_batches):\n",
    "    start = i * batch_size\n",
    "    end = start + batch_size\n",
    "    x_batch, y_batch = x_test[start:end], y_test[start:end]\n",
    "\n",
    "    output = model(x_batch)\n",
    "    test_loss += tfk.losses.binary_crossentropy(y_batch, output).numpy().mean()\n",
    "    pred = (output >= 0.5)\n",
    "    correct += np.sum(pred == y_batch)\n",
    "\n",
    "  test_loss /= num_batches\n",
    "  accuracy = correct / len(y_test)\n",
    "\n",
    "  print('Test set: Average loss: {:.4f}, Accuracy: {}/{} ({:.0f}%)\\n'.format(\n",
    "      test_loss, correct, len(y_test), 100. * accuracy))\n",
    "\n",
    "  return accuracy * 100"
   ]
  },
  {
   "cell_type": "code",
   "execution_count": 127,
   "metadata": {
    "colab": {
     "base_uri": "https://localhost:8080/"
    },
    "executionInfo": {
     "elapsed": 276494,
     "status": "ok",
     "timestamp": 1696865166188,
     "user": {
      "displayName": "Erika Buoninfante",
      "userId": "14616066065245091588"
     },
     "user_tz": -120
    },
    "id": "TuTFdtoBY2EE",
    "outputId": "8a2636f7-6a08-4bce-c166-839d11fd5c4a"
   },
   "outputs": [
    {
     "name": "stdout",
     "output_type": "stream",
     "text": [
      "TRAINING on task:  1\n",
      "Train Epoch: 1 \tLoss: 1.215400\n",
      "Train Epoch: 2 \tLoss: 1.152420\n",
      "\n",
      "Testing on task:  1\n",
      "Test set: Average loss: 0.5641, Accuracy: 1370/1832 (75%)\n",
      "\n",
      "Testing on task:  2\n",
      "Test set: Average loss: 6.0196, Accuracy: 464/1616 (29%)\n",
      "\n",
      "Testing on task:  3\n",
      "Test set: Average loss: 3.6360, Accuracy: 624/1566 (40%)\n",
      "\n",
      "Testing on task:  4\n",
      "Test set: Average loss: 1.5642, Accuracy: 294/1625 (18%)\n",
      "\n",
      "Avg acc:  0.40358395415775467\n",
      "\n",
      "TRAINING on task:  2\n",
      "Train Epoch: 1 \tLoss: 0.039884\n",
      "Train Epoch: 2 \tLoss: 0.025176\n",
      "\n",
      "Testing on task:  1\n",
      "Test set: Average loss: 6.2744, Accuracy: 688/1832 (38%)\n",
      "\n",
      "Testing on task:  2\n",
      "Test set: Average loss: 0.2141, Accuracy: 1480/1616 (92%)\n",
      "\n",
      "Testing on task:  3\n",
      "Test set: Average loss: 2.4191, Accuracy: 921/1566 (59%)\n",
      "\n",
      "Testing on task:  4\n",
      "Test set: Average loss: 3.4424, Accuracy: 661/1625 (41%)\n",
      "\n",
      "Avg acc:  0.571569817955004\n",
      "\n",
      "TRAINING on task:  3\n",
      "Train Epoch: 1 \tLoss: 0.596233\n",
      "Train Epoch: 2 \tLoss: 0.547471\n",
      "\n",
      "Testing on task:  1\n",
      "Test set: Average loss: 0.9152, Accuracy: 547/1832 (30%)\n",
      "\n",
      "Testing on task:  2\n",
      "Test set: Average loss: 0.9738, Accuracy: 708/1616 (44%)\n",
      "\n",
      "Testing on task:  3\n",
      "Test set: Average loss: 0.4603, Accuracy: 1235/1566 (79%)\n",
      "\n",
      "Testing on task:  4\n",
      "Test set: Average loss: 0.2812, Accuracy: 1571/1625 (97%)\n",
      "\n",
      "Avg acc:  0.6230255724309685\n",
      "\n",
      "TRAINING on task:  4\n",
      "Train Epoch: 1 \tLoss: 0.210908\n",
      "Train Epoch: 2 \tLoss: 0.194726\n",
      "\n",
      "Testing on task:  1\n",
      "Test set: Average loss: 2.5630, Accuracy: 637/1832 (35%)\n",
      "\n",
      "Testing on task:  2\n",
      "Test set: Average loss: 2.2265, Accuracy: 806/1616 (50%)\n",
      "\n",
      "Testing on task:  3\n",
      "Test set: Average loss: 1.4583, Accuracy: 1062/1566 (68%)\n",
      "\n",
      "Testing on task:  4\n",
      "Test set: Average loss: 0.0690, Accuracy: 1599/1625 (98%)\n",
      "\n",
      "Avg acc:  0.62715767983966\n",
      "\n"
     ]
    }
   ],
   "source": [
    "# EWC accuracy\n",
    "ewc_accs = []\n",
    "accs_table[\"EWC\"] = []\n",
    "\n",
    "# Reset model\n",
    "model = build_model(input_length)\n",
    "optimizer = Adam(learning_rate=learning_rate, beta_1=0.9, beta_2=0.999)\n",
    "\n",
    "for id_train in range(num_experiences):\n",
    "  avg_acc = 0\n",
    "  print(\"TRAINING on task: \", id_train+1)\n",
    "  accs_table[\"EWC\"].append([])\n",
    "\n",
    "  for epoch in range(1, 3):\n",
    "    train_ewc(model, id_train, X_train[id_train], y_train[id_train].reshape(-1, 1), optimizer, epoch, batch_size, ewc_lambda)\n",
    "  on_task_update(id_train, X_train[id_train], y_train[id_train].reshape(-1, 1), batch_size)\n",
    "\n",
    "  print()\n",
    "  for id_test in range(num_experiences):\n",
    "    print(\"Testing on task: \", id_test+1)\n",
    "    acc = test(model, X_test[id_test], y_test[id_test].reshape(-1, 1), batch_size)\n",
    "    accs_table[\"EWC\"][-1].append(acc/100)\n",
    "    avg_acc = avg_acc + acc/100\n",
    "\n",
    "  print(\"Avg acc: \", avg_acc / num_experiences)\n",
    "  print()\n",
    "  ewc_accs.append(avg_acc / num_experiences)"
   ]
  },
  {
   "cell_type": "markdown",
   "metadata": {
    "id": "aotBY3B17a0Y"
   },
   "source": [
    "## Plot results"
   ]
  },
  {
   "cell_type": "code",
   "execution_count": 128,
   "metadata": {
    "colab": {
     "base_uri": "https://localhost:8080/",
     "height": 477
    },
    "executionInfo": {
     "elapsed": 380,
     "status": "ok",
     "timestamp": 1696865197185,
     "user": {
      "displayName": "Erika Buoninfante",
      "userId": "14616066065245091588"
     },
     "user_tz": -120
    },
    "id": "YcsKGpIZ7dRl",
    "outputId": "2ab480b8-d3f0-4f50-91b5-b51c9533e345"
   },
   "outputs": [
    {
     "data": {
      "image/png": "[encoded data removed]",
      "text/plain": [
       "<Figure size 640x480 with 1 Axes>"
      ]
     },
     "metadata": {},
     "output_type": "display_data"
    }
   ],
   "source": [
    "plt.plot([1, 2, 3, 4], naive_accs, '-o', label=\"Naive\")\n",
    "plt.plot([1, 2, 3, 4], rehe_accs, '-o', label=\"Rehearsal\")\n",
    "plt.plot([1, 2, 3, 4], repl1_accs, '-o', label=\"Replay1\")\n",
    "plt.plot([1, 2, 3, 4], repl2_accs, '-o', label=\"Replay2\")\n",
    "plt.plot([1, 2, 3, 4], ewc_accs, '-o', label=\"EWC\")\n",
    "plt.xlabel('Tasks encountered', fontsize=12)\n",
    "plt.ylabel('Average Accuracy', fontsize=12)\n",
    "plt.title('CL strategies comparison', fontsize=14);\n",
    "plt.xticks([1, 2, 3, 4])\n",
    "plt.legend(prop={'size': 10});"
   ]
  },
  {
   "cell_type": "code",
   "execution_count": 129,
   "metadata": {
    "colab": {
     "base_uri": "https://localhost:8080/",
     "height": 1000
    },
    "executionInfo": {
     "elapsed": 2002,
     "status": "ok",
     "timestamp": 1696865202175,
     "user": {
      "displayName": "Erika Buoninfante",
      "userId": "14616066065245091588"
     },
     "user_tz": -120
    },
    "id": "1FVyyhFx6BbD",
    "outputId": "1dbf092a-9c0e-487a-afc8-afd0c383f6f4"
   },
   "outputs": [
    {
     "data": {
      "image/png": "[encoded data removed]",
      "text/plain": [
       "<Figure size 1000x1000 with 5 Axes>"
      ]
     },
     "metadata": {},
     "output_type": "display_data"
    }
   ],
   "source": [
    "# All accuracy values on all strategies\n",
    "fig, ax = plt.subplots(ncols=1, nrows=5, figsize=(10,10))\n",
    "\n",
    "for i, strategy in enumerate(accs_table):\n",
    "  index = [\"Train \"+str(i) for i in range(1,num_experiences+1)]\n",
    "  df_dict = {\"Test \"+str(i) : np.asarray(accs_table[strategy])[:,i-1] for i in range(1,num_experiences+1)}\n",
    "  df = pd.DataFrame(df_dict, index=index)\n",
    "  df.plot.bar(rot=0, ax=ax[i])\n",
    "  ax[i].set_title(strategy, fontsize=12)\n",
    "  ax[i].set_ylabel(\"Accuracy\")\n",
    "  ax[i].set_yticks(np.arange(0, 1.1, 0.1))\n",
    "plt.tight_layout()"
   ]
  },
  {
   "cell_type": "markdown",
   "metadata": {
    "id": "5kW9qNeJDmt9"
   },
   "source": [
    "All the models described exhibit **plasticity**, allowing for continuous learning on new experiences.\n",
    "\n",
    "Looking at the plots, they demonstrate a form of **forward transfer** behavior by enhancing performance in subsequent experiences with each training. However, we can observe this only in the second and third training. To get a deeper understanding of this behavior, it's important to analyze also the forward transfer metric, since it provides insights into the model's behavior both after the initial training and after the final one.\n",
    "\n",
    "Out of all the models, *Rehearsal* stands out by maintaining the highest accuracy on experiences throughout the entire training duration. However, it's important to note that it still hasn't completely eliminated the issue of *catastrophic forgetting*."
   ]
  },
  {
   "cell_type": "markdown",
   "metadata": {
    "id": "di0WRDyib9ac"
   },
   "source": [
    "## A metric"
   ]
  },
  {
   "cell_type": "code",
   "execution_count": 130,
   "metadata": {
    "colab": {
     "base_uri": "https://localhost:8080/"
    },
    "executionInfo": {
     "elapsed": 3,
     "status": "ok",
     "timestamp": 1696865211089,
     "user": {
      "displayName": "Erika Buoninfante",
      "userId": "14616066065245091588"
     },
     "user_tz": -120
    },
    "id": "z1yKd363b-hv",
    "outputId": "5bf3bd87-6b1b-40ab-fdd5-7c22e0f56f2b"
   },
   "outputs": [
    {
     "data": {
      "text/plain": [
       "{'Naive': 0.6524804472923279,\n",
       " 'Rehearsal': 0.7673652768135071,\n",
       " 'Replay1': 0.6676419615745545,\n",
       " 'Replay2': 0.7150863021612167,\n",
       " 'EWC': 0.6073167807886546}"
      ]
     },
     "execution_count": 130,
     "metadata": {},
     "output_type": "execute_result"
    }
   ],
   "source": [
    "a_metric = {}\n",
    "for strategy in accs_table:\n",
    "  a_metric[strategy] = 0\n",
    "  for i in range(0,num_experiences):\n",
    "    for j in range(0,i+1):\n",
    "      a_metric[strategy] += accs_table[strategy][i][j]\n",
    "  a_metric[strategy] /= (num_experiences * (num_experiences + 1) / 2)\n",
    "a_metric"
   ]
  },
  {
   "cell_type": "markdown",
   "metadata": {
    "id": "D2wtdYT3b4cT"
   },
   "source": [
    "## BWT metric"
   ]
  },
  {
   "cell_type": "code",
   "execution_count": 131,
   "metadata": {
    "colab": {
     "base_uri": "https://localhost:8080/"
    },
    "executionInfo": {
     "elapsed": 420,
     "status": "ok",
     "timestamp": 1696865219526,
     "user": {
      "displayName": "Erika Buoninfante",
      "userId": "14616066065245091588"
     },
     "user_tz": -120
    },
    "id": "cMPsEcT8Zeu3",
    "outputId": "7ec284a5-6b5a-451c-a8be-8b6f79fda89b"
   },
   "outputs": [
    {
     "data": {
      "text/plain": [
       "{'Naive': -0.21522672971089682,\n",
       " 'Rehearsal': -0.045423686504364014,\n",
       " 'Replay1': -0.22574382026990256,\n",
       " 'Replay2': -0.17915277679761252,\n",
       " 'EWC': -0.2723961260754897}"
      ]
     },
     "execution_count": 131,
     "metadata": {},
     "output_type": "execute_result"
    }
   ],
   "source": [
    "bwt = {}\n",
    "for strategy in accs_table:\n",
    "  bwt[strategy] = 0\n",
    "  for i in range(0,2):\n",
    "    bwt[strategy] += (\n",
    "        accs_table[strategy][num_experiences-1][i] -\n",
    "        accs_table[strategy][i][i]\n",
    "    )\n",
    "  bwt[strategy] /= (num_experiences-1)\n",
    "bwt"
   ]
  },
  {
   "cell_type": "markdown",
   "metadata": {
    "id": "xZUBzo40GIGY"
   },
   "source": [
    "No evidence of a **backward transfer** property is observed, as it was clearly evident from the plots."
   ]
  },
  {
   "cell_type": "markdown",
   "metadata": {
    "id": "NB1xPEjmb2Hw"
   },
   "source": [
    "## FWT metric"
   ]
  },
  {
   "cell_type": "code",
   "execution_count": 132,
   "metadata": {
    "colab": {
     "base_uri": "https://localhost:8080/"
    },
    "executionInfo": {
     "elapsed": 220,
     "status": "ok",
     "timestamp": 1696865226365,
     "user": {
      "displayName": "Erika Buoninfante",
      "userId": "14616066065245091588"
     },
     "user_tz": -120
    },
    "id": "Yfh6WpPvZ433",
    "outputId": "e04a20ac-d43d-4bf7-9d2f-c1af53a18fba"
   },
   "outputs": [
    {
     "data": {
      "text/plain": [
       "{'Naive': 0.09376994768778484,\n",
       " 'Rehearsal': -0.07326909899711609,\n",
       " 'Replay1': 0.041075040896733604,\n",
       " 'Replay2': 0.057787954807281494,\n",
       " 'EWC': 0.13707438363804664}"
      ]
     },
     "execution_count": 132,
     "metadata": {},
     "output_type": "execute_result"
    }
   ],
   "source": [
    "fwt = {}\n",
    "for strategy in accs_table:\n",
    "  fwt[strategy] = 0\n",
    "  for i in range(1,num_experiences):\n",
    "    fwt[strategy] += (\n",
    "        accs_table[strategy][i-1][i] -\n",
    "        accs_table_random_model[strategy][i]\n",
    "    )\n",
    "  fwt[strategy] /= (num_experiences-1)\n",
    "fwt"
   ]
  },
  {
   "cell_type": "markdown",
   "metadata": {
    "id": "B_3C0a97H9oj"
   },
   "source": [
    "All the values are relatively small, making them subject to variation based on random predictions or specific training processes. Considering this, it's unclear whether the models exhibit a significant forward transfer behavior."
   ]
  },
  {
   "cell_type": "markdown",
   "metadata": {
    "id": "M45sXDqCtaRX"
   },
   "source": [
    "# SML and CL comparison"
   ]
  },
  {
   "cell_type": "code",
   "execution_count": 133,
   "metadata": {
    "executionInfo": {
     "elapsed": 406,
     "status": "ok",
     "timestamp": 1696865241246,
     "user": {
      "displayName": "Erika Buoninfante",
      "userId": "14616066065245091588"
     },
     "user_tz": -120
    },
    "id": "k6dhlY9yv7O4"
   },
   "outputs": [],
   "source": [
    "metrics = dict()\n",
    "metrics['Average Accuracy'] = [ARF_avg_accuracy, ARF2_avg_accuracy, HAT_avg_accuracy, HAT2_avg_accuracy, naive_accs[-1], rehe_accs[-1], repl1_accs[-1], repl2_accs[-1], ewc_accs[-1]]\n",
    "metrics['A metric'] = [ARF_a_metric, ARF2_a_metric, HAT_a_metric, HAT2_a_metric]\n",
    "metrics['Forward Transfer'] = [ARF_ft_metric, ARF2_ft_metric, HAT_ft_metric, HAT2_ft_metric,]\n",
    "metrics['Backward Transfer'] = [ARF_bt_metric, ARF2_bt_metric, HAT_bt_metric, HAT2_bt_metric,]\n",
    "\n",
    "for strategy in accs_table:\n",
    "  metrics['A metric'].append(a_metric[strategy])\n",
    "  metrics['Forward Transfer'].append(fwt[strategy])\n",
    "  metrics['Backward Transfer'].append(bwt[strategy])"
   ]
  },
  {
   "cell_type": "code",
   "execution_count": 134,
   "metadata": {
    "colab": {
     "base_uri": "https://localhost:8080/",
     "height": 1000
    },
    "executionInfo": {
     "elapsed": 1839,
     "status": "ok",
     "timestamp": 1696865246351,
     "user": {
      "displayName": "Erika Buoninfante",
      "userId": "14616066065245091588"
     },
     "user_tz": -120
    },
    "id": "Got7LpOJ0zc8",
    "outputId": "537b3ac6-6c2d-4d9a-b51a-21e7e2bc53ec"
   },
   "outputs": [
    {
     "data": {
      "image/png": "[encoded data removed]",
      "text/plain": [
       "<Figure size 1000x1000 with 4 Axes>"
      ]
     },
     "metadata": {},
     "output_type": "display_data"
    }
   ],
   "source": [
    "fig, axs = plt.subplots(4, 1, figsize=(10, 10))\n",
    "axs = axs.flatten()\n",
    "\n",
    "for i, (metric_name, values) in enumerate(metrics.items()):\n",
    "  ax = axs[i]\n",
    "  x = ['ARF','ARF2','HAT','HAT2','Naive','Rehearsal','Replay1','Replay2','EWC']\n",
    "  ax.bar(x, values)\n",
    "  ax.set_ylabel(metric_name)\n",
    "  ax.set_title(f'{metric_name}')\n",
    "\n",
    "plt.tight_layout()\n",
    "plt.show()"
   ]
  },
  {
   "cell_type": "markdown",
   "metadata": {
    "id": "bm_xjCGqefy3"
   },
   "source": [
    "## Conclusions\n",
    "\n",
    "Considering all the calculated metric values, no particular differences are evident between the SML models and the implemented CL strategies. It is important to highlight that all experiments demonstrated the models' ability to adapt to new tasks. However, it was expected that CL strategies would be more effective in mitigating the catastrophic forgetting phenomenon, given that they were designed for this purpose. The values of backward transfer, however, tell a different story.\n",
    "\n",
    "In my analysis, one issue may be the initial models' inability to achieve significant accuracy values during the first trainings. Since the problem at hand involves simple binary classification, surpassing a random accuracy of approximately 1/2 (equivalent to a coin toss) can be challenging. Consequently, accuracy values between 60% and 70% are not to be considered highly significant. Furthermore, when examining all the forward transfer values, this struggle to outperform random model performances is evident, even when the plots illustrate a forward transfer behavior.\n",
    "\n",
    "The aforementioned issue could arise from the existence of data that aren't particularly useful for resolving the classification. Alternatively, it could be attributed to an incorrect choice of the base model. A more suitable base model might have required better hyperparameter tuning to achieve improved performance during the initial training.\n",
    "\n",
    "In conclusion, it is certainly necessary to explore more complex strategies and perhaps preprocess the initial dataset more carefully to attain meaningful performance improvements on basic models."
   ]
  }
 ],
 "metadata": {
  "colab": {
   "collapsed_sections": [
    "YMI1U4UqPDIV",
    "sOR1CRUPAyzo",
    "JrMoTpSxAtxB",
    "P9m4pXTB-Go5",
    "d0j3C555-Go7",
    "bQirz3v9FHRA",
    "IvE0CSoL-Go8",
    "4IOcS-bq-Go8",
    "q0FMOeSWfD4T",
    "jh-djqA-gO2Z",
    "Cdh9Pas5EwB-",
    "NZCrt_0I-Go9",
    "6FRZWSOmbuLs",
    "ycY8Br2W-Go9",
    "vY_cge6G-Go9",
    "fFwWkj4yq_kK",
    "hygANATZx-dN",
    "b9UIaR4iyr0f",
    "VTks4DzZsYP9",
    "7Ht71nYYFL7K",
    "dxX6_s-b_u9_",
    "x_MEqBq4_XFy",
    "VMJe69rikVKg",
    "0G1dUX1YIXUf",
    "XeVzWbxjPXG-",
    "aotBY3B17a0Y",
    "di0WRDyib9ac",
    "D2wtdYT3b4cT",
    "NB1xPEjmb2Hw",
    "M45sXDqCtaRX"
   ],
   "provenance": []
  },
  "kernelspec": {
   "display_name": "Python 3 (ipykernel)",
   "language": "python",
   "name": "python3"
  },
  "language_info": {
   "codemirror_mode": {
    "name": "ipython",
    "version": 3
   },
   "file_extension": ".py",
   "mimetype": "text/x-python",
   "name": "python",
   "nbconvert_exporter": "python",
   "pygments_lexer": "ipython3",
   "version": "3.11.4"
  }
 },
 "nbformat": 4,
 "nbformat_minor": 4
}
